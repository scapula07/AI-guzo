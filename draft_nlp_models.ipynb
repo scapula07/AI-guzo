{
 "cells": [
  {
   "cell_type": "markdown",
   "metadata": {},
   "source": [
    "# Guzo Chatbox NLP Product\n",
    "\n",
    "This python code will serve as the backend logic to the Chatbox ML/AI product. This backend will be split into 4 major steps:\n",
    "\n",
    "1. Importing text input from chatbox frontend (**Bart to help**)\n",
    "1. Extracting keyword(s) from text input & creating list (*if necessary*)\n",
    "1. Matching keywords to tags for profiles in database (**Need Bart help for API**)\n",
    "1. Exporting results to frontend (**Need Bart help for API**)"
   ]
  },
  {
   "cell_type": "markdown",
   "metadata": {},
   "source": [
    "## Imports"
   ]
  },
  {
   "cell_type": "markdown",
   "metadata": {},
   "source": [
    "### Import NLP Libraries"
   ]
  },
  {
   "cell_type": "code",
   "execution_count": 16,
   "metadata": {},
   "outputs": [],
   "source": [
    "#   Imports\n",
    "import numpy as np\n",
    "import pandas as pd\n",
    "import sys\n",
    "import os\n",
    "from dotenv import load_dotenv"
   ]
  },
  {
   "cell_type": "code",
   "execution_count": 17,
   "metadata": {},
   "outputs": [
    {
     "name": "stderr",
     "output_type": "stream",
     "text": [
      "[nltk_data] Error loading STOPWORDS: <urlopen error [SSL:\n",
      "[nltk_data]     CERTIFICATE_VERIFY_FAILED] certificate verify failed:\n",
      "[nltk_data]     unable to get local issuer certificate (_ssl.c:1123)>\n"
     ]
    },
    {
     "data": {
      "text/plain": [
       "False"
      ]
     },
     "execution_count": 17,
     "metadata": {},
     "output_type": "execute_result"
    }
   ],
   "source": [
    "# from wordcloud import WordCloud, STOPWORDS, ImageColorGenerator\n",
    "import nltk\n",
    "nltk.download('STOPWORDS')\n",
    "\n"
   ]
  },
  {
   "cell_type": "code",
   "execution_count": 18,
   "metadata": {},
   "outputs": [],
   "source": [
    "import yake\n",
    "yake_extractor = yake.KeywordExtractor()"
   ]
  },
  {
   "cell_type": "code",
   "execution_count": 19,
   "metadata": {},
   "outputs": [],
   "source": [
    "\n",
    "from rake_nltk import Rake\n",
    "rake_nltk_extractor = Rake()"
   ]
  },
  {
   "cell_type": "code",
   "execution_count": 20,
   "metadata": {},
   "outputs": [],
   "source": [
    "#   import KeyBERT and OpenAI\n",
    "import openai\n",
    "from keybert import KeyLLM\n",
    "from keybert.llm import OpenAI\n"
   ]
  },
  {
   "cell_type": "code",
   "execution_count": 21,
   "metadata": {},
   "outputs": [],
   "source": [
    "import gensim\n",
    "from gensim.summarization import keywords #This is a function used to extract keywords"
   ]
  },
  {
   "cell_type": "markdown",
   "metadata": {},
   "source": [
    "## Extracting Keywords & Creating Lists\n",
    "### Importing actual chatbox input TBD"
   ]
  },
  {
   "cell_type": "code",
   "execution_count": 22,
   "metadata": {},
   "outputs": [
    {
     "name": "stdout",
     "output_type": "stream",
     "text": [
      "240 character limit\n",
      "I need help with finding coworking space and an incubator that can connect me with venture capital funding or grants\n"
     ]
    }
   ],
   "source": [
    "#   This is temporary but this emulates the text box --> test the algorithm\n",
    "print('240 character limit')\n",
    "text_input = input(\"What resource do you need to grow your business?\")\n",
    "print(text_input)\n"
   ]
  },
  {
   "cell_type": "code",
   "execution_count": 23,
   "metadata": {},
   "outputs": [],
   "source": [
    "#  input manipulation to clean it up\n",
    "if len(text_input) > 240:\n",
    "    print(\"Input is too long, please try again.\")\n",
    "    sys.exit()"
   ]
  },
  {
   "cell_type": "markdown",
   "metadata": {},
   "source": [
    "### NLP Model Execution & Keyword Extraction"
   ]
  },
  {
   "cell_type": "code",
   "execution_count": 32,
   "metadata": {},
   "outputs": [
    {
     "ename": "APIConnectionError",
     "evalue": "Connection error.",
     "output_type": "error",
     "traceback": [
      "\u001b[0;31m---------------------------------------------------------------------------\u001b[0m",
      "\u001b[0;31mUnicodeError\u001b[0m                              Traceback (most recent call last)",
      "File \u001b[0;32m/Library/Frameworks/Python.framework/Versions/3.9/lib/python3.9/encodings/idna.py:165\u001b[0m, in \u001b[0;36mCodec.encode\u001b[0;34m(self, input, errors)\u001b[0m\n\u001b[1;32m    164\u001b[0m     \u001b[39mif\u001b[39;00m \u001b[39mnot\u001b[39;00m (\u001b[39m0\u001b[39m \u001b[39m<\u001b[39m \u001b[39mlen\u001b[39m(label) \u001b[39m<\u001b[39m \u001b[39m64\u001b[39m):\n\u001b[0;32m--> 165\u001b[0m         \u001b[39mraise\u001b[39;00m \u001b[39mUnicodeError\u001b[39;00m(\u001b[39m\"\u001b[39m\u001b[39mlabel empty or too long\u001b[39m\u001b[39m\"\u001b[39m)\n\u001b[1;32m    166\u001b[0m \u001b[39mif\u001b[39;00m \u001b[39mlen\u001b[39m(labels[\u001b[39m-\u001b[39m\u001b[39m1\u001b[39m]) \u001b[39m>\u001b[39m\u001b[39m=\u001b[39m \u001b[39m64\u001b[39m:\n",
      "\u001b[0;31mUnicodeError\u001b[0m: label empty or too long",
      "\nThe above exception was the direct cause of the following exception:\n",
      "\u001b[0;31mUnicodeError\u001b[0m                              Traceback (most recent call last)",
      "File \u001b[0;32m/Library/Frameworks/Python.framework/Versions/3.9/lib/python3.9/site-packages/openai/_base_client.py:887\u001b[0m, in \u001b[0;36mSyncAPIClient._request\u001b[0;34m(self, cast_to, options, remaining_retries, stream, stream_cls)\u001b[0m\n\u001b[1;32m    886\u001b[0m \u001b[39mtry\u001b[39;00m:\n\u001b[0;32m--> 887\u001b[0m     response \u001b[39m=\u001b[39m \u001b[39mself\u001b[39;49m\u001b[39m.\u001b[39;49m_client\u001b[39m.\u001b[39;49msend(\n\u001b[1;32m    888\u001b[0m         request,\n\u001b[1;32m    889\u001b[0m         stream\u001b[39m=\u001b[39;49mstream \u001b[39mor\u001b[39;49;00m \u001b[39mself\u001b[39;49m\u001b[39m.\u001b[39;49m_should_stream_response_body(request\u001b[39m=\u001b[39;49mrequest),\n\u001b[1;32m    890\u001b[0m         \u001b[39m*\u001b[39;49m\u001b[39m*\u001b[39;49mkwargs,\n\u001b[1;32m    891\u001b[0m     )\n\u001b[1;32m    892\u001b[0m \u001b[39mexcept\u001b[39;00m httpx\u001b[39m.\u001b[39mTimeoutException \u001b[39mas\u001b[39;00m err:\n",
      "File \u001b[0;32m/Library/Frameworks/Python.framework/Versions/3.9/lib/python3.9/site-packages/httpx/_client.py:915\u001b[0m, in \u001b[0;36mClient.send\u001b[0;34m(self, request, stream, auth, follow_redirects)\u001b[0m\n\u001b[1;32m    913\u001b[0m auth \u001b[39m=\u001b[39m \u001b[39mself\u001b[39m\u001b[39m.\u001b[39m_build_request_auth(request, auth)\n\u001b[0;32m--> 915\u001b[0m response \u001b[39m=\u001b[39m \u001b[39mself\u001b[39;49m\u001b[39m.\u001b[39;49m_send_handling_auth(\n\u001b[1;32m    916\u001b[0m     request,\n\u001b[1;32m    917\u001b[0m     auth\u001b[39m=\u001b[39;49mauth,\n\u001b[1;32m    918\u001b[0m     follow_redirects\u001b[39m=\u001b[39;49mfollow_redirects,\n\u001b[1;32m    919\u001b[0m     history\u001b[39m=\u001b[39;49m[],\n\u001b[1;32m    920\u001b[0m )\n\u001b[1;32m    921\u001b[0m \u001b[39mtry\u001b[39;00m:\n",
      "File \u001b[0;32m/Library/Frameworks/Python.framework/Versions/3.9/lib/python3.9/site-packages/httpx/_client.py:943\u001b[0m, in \u001b[0;36mClient._send_handling_auth\u001b[0;34m(self, request, auth, follow_redirects, history)\u001b[0m\n\u001b[1;32m    942\u001b[0m \u001b[39mwhile\u001b[39;00m \u001b[39mTrue\u001b[39;00m:\n\u001b[0;32m--> 943\u001b[0m     response \u001b[39m=\u001b[39m \u001b[39mself\u001b[39;49m\u001b[39m.\u001b[39;49m_send_handling_redirects(\n\u001b[1;32m    944\u001b[0m         request,\n\u001b[1;32m    945\u001b[0m         follow_redirects\u001b[39m=\u001b[39;49mfollow_redirects,\n\u001b[1;32m    946\u001b[0m         history\u001b[39m=\u001b[39;49mhistory,\n\u001b[1;32m    947\u001b[0m     )\n\u001b[1;32m    948\u001b[0m     \u001b[39mtry\u001b[39;00m:\n",
      "File \u001b[0;32m/Library/Frameworks/Python.framework/Versions/3.9/lib/python3.9/site-packages/httpx/_client.py:980\u001b[0m, in \u001b[0;36mClient._send_handling_redirects\u001b[0;34m(self, request, follow_redirects, history)\u001b[0m\n\u001b[1;32m    978\u001b[0m     hook(request)\n\u001b[0;32m--> 980\u001b[0m response \u001b[39m=\u001b[39m \u001b[39mself\u001b[39;49m\u001b[39m.\u001b[39;49m_send_single_request(request)\n\u001b[1;32m    981\u001b[0m \u001b[39mtry\u001b[39;00m:\n",
      "File \u001b[0;32m/Library/Frameworks/Python.framework/Versions/3.9/lib/python3.9/site-packages/httpx/_client.py:1016\u001b[0m, in \u001b[0;36mClient._send_single_request\u001b[0;34m(self, request)\u001b[0m\n\u001b[1;32m   1015\u001b[0m \u001b[39mwith\u001b[39;00m request_context(request\u001b[39m=\u001b[39mrequest):\n\u001b[0;32m-> 1016\u001b[0m     response \u001b[39m=\u001b[39m transport\u001b[39m.\u001b[39;49mhandle_request(request)\n\u001b[1;32m   1018\u001b[0m \u001b[39massert\u001b[39;00m \u001b[39misinstance\u001b[39m(response\u001b[39m.\u001b[39mstream, SyncByteStream)\n",
      "File \u001b[0;32m/Library/Frameworks/Python.framework/Versions/3.9/lib/python3.9/site-packages/httpx/_transports/default.py:231\u001b[0m, in \u001b[0;36mHTTPTransport.handle_request\u001b[0;34m(self, request)\u001b[0m\n\u001b[1;32m    230\u001b[0m \u001b[39mwith\u001b[39;00m map_httpcore_exceptions():\n\u001b[0;32m--> 231\u001b[0m     resp \u001b[39m=\u001b[39m \u001b[39mself\u001b[39;49m\u001b[39m.\u001b[39;49m_pool\u001b[39m.\u001b[39;49mhandle_request(req)\n\u001b[1;32m    233\u001b[0m \u001b[39massert\u001b[39;00m \u001b[39misinstance\u001b[39m(resp\u001b[39m.\u001b[39mstream, typing\u001b[39m.\u001b[39mIterable)\n",
      "File \u001b[0;32m/Library/Frameworks/Python.framework/Versions/3.9/lib/python3.9/site-packages/httpcore/_sync/connection_pool.py:268\u001b[0m, in \u001b[0;36mConnectionPool.handle_request\u001b[0;34m(self, request)\u001b[0m\n\u001b[1;32m    267\u001b[0m         \u001b[39mself\u001b[39m\u001b[39m.\u001b[39mresponse_closed(status)\n\u001b[0;32m--> 268\u001b[0m     \u001b[39mraise\u001b[39;00m exc\n\u001b[1;32m    269\u001b[0m \u001b[39melse\u001b[39;00m:\n",
      "File \u001b[0;32m/Library/Frameworks/Python.framework/Versions/3.9/lib/python3.9/site-packages/httpcore/_sync/connection_pool.py:251\u001b[0m, in \u001b[0;36mConnectionPool.handle_request\u001b[0;34m(self, request)\u001b[0m\n\u001b[1;32m    250\u001b[0m \u001b[39mtry\u001b[39;00m:\n\u001b[0;32m--> 251\u001b[0m     response \u001b[39m=\u001b[39m connection\u001b[39m.\u001b[39;49mhandle_request(request)\n\u001b[1;32m    252\u001b[0m \u001b[39mexcept\u001b[39;00m ConnectionNotAvailable:\n\u001b[1;32m    253\u001b[0m     \u001b[39m# The ConnectionNotAvailable exception is a special case, that\u001b[39;00m\n\u001b[1;32m    254\u001b[0m     \u001b[39m# indicates we need to retry the request on a new connection.\u001b[39;00m\n\u001b[0;32m   (...)\u001b[0m\n\u001b[1;32m    258\u001b[0m     \u001b[39m# might end up as an HTTP/2 connection, but which actually ends\u001b[39;00m\n\u001b[1;32m    259\u001b[0m     \u001b[39m# up as HTTP/1.1.\u001b[39;00m\n",
      "File \u001b[0;32m/Library/Frameworks/Python.framework/Versions/3.9/lib/python3.9/site-packages/httpcore/_sync/connection.py:99\u001b[0m, in \u001b[0;36mHTTPConnection.handle_request\u001b[0;34m(self, request)\u001b[0m\n\u001b[1;32m     98\u001b[0m         \u001b[39mself\u001b[39m\u001b[39m.\u001b[39m_connect_failed \u001b[39m=\u001b[39m \u001b[39mTrue\u001b[39;00m\n\u001b[0;32m---> 99\u001b[0m         \u001b[39mraise\u001b[39;00m exc\n\u001b[1;32m    100\u001b[0m \u001b[39melif\u001b[39;00m \u001b[39mnot\u001b[39;00m \u001b[39mself\u001b[39m\u001b[39m.\u001b[39m_connection\u001b[39m.\u001b[39mis_available():\n",
      "File \u001b[0;32m/Library/Frameworks/Python.framework/Versions/3.9/lib/python3.9/site-packages/httpcore/_sync/connection.py:76\u001b[0m, in \u001b[0;36mHTTPConnection.handle_request\u001b[0;34m(self, request)\u001b[0m\n\u001b[1;32m     75\u001b[0m \u001b[39mtry\u001b[39;00m:\n\u001b[0;32m---> 76\u001b[0m     stream \u001b[39m=\u001b[39m \u001b[39mself\u001b[39;49m\u001b[39m.\u001b[39;49m_connect(request)\n\u001b[1;32m     78\u001b[0m     ssl_object \u001b[39m=\u001b[39m stream\u001b[39m.\u001b[39mget_extra_info(\u001b[39m\"\u001b[39m\u001b[39mssl_object\u001b[39m\u001b[39m\"\u001b[39m)\n",
      "File \u001b[0;32m/Library/Frameworks/Python.framework/Versions/3.9/lib/python3.9/site-packages/httpcore/_sync/connection.py:124\u001b[0m, in \u001b[0;36mHTTPConnection._connect\u001b[0;34m(self, request)\u001b[0m\n\u001b[1;32m    123\u001b[0m \u001b[39mwith\u001b[39;00m Trace(\u001b[39m\"\u001b[39m\u001b[39mconnect_tcp\u001b[39m\u001b[39m\"\u001b[39m, logger, request, kwargs) \u001b[39mas\u001b[39;00m trace:\n\u001b[0;32m--> 124\u001b[0m     stream \u001b[39m=\u001b[39m \u001b[39mself\u001b[39;49m\u001b[39m.\u001b[39;49m_network_backend\u001b[39m.\u001b[39;49mconnect_tcp(\u001b[39m*\u001b[39;49m\u001b[39m*\u001b[39;49mkwargs)\n\u001b[1;32m    125\u001b[0m     trace\u001b[39m.\u001b[39mreturn_value \u001b[39m=\u001b[39m stream\n",
      "File \u001b[0;32m/Library/Frameworks/Python.framework/Versions/3.9/lib/python3.9/site-packages/httpcore/_backends/sync.py:206\u001b[0m, in \u001b[0;36mSyncBackend.connect_tcp\u001b[0;34m(self, host, port, timeout, local_address, socket_options)\u001b[0m\n\u001b[1;32m    205\u001b[0m \u001b[39mwith\u001b[39;00m map_exceptions(exc_map):\n\u001b[0;32m--> 206\u001b[0m     sock \u001b[39m=\u001b[39m socket\u001b[39m.\u001b[39;49mcreate_connection(\n\u001b[1;32m    207\u001b[0m         address,\n\u001b[1;32m    208\u001b[0m         timeout,\n\u001b[1;32m    209\u001b[0m         source_address\u001b[39m=\u001b[39;49msource_address,\n\u001b[1;32m    210\u001b[0m     )\n\u001b[1;32m    211\u001b[0m     \u001b[39mfor\u001b[39;00m option \u001b[39min\u001b[39;00m socket_options:\n",
      "File \u001b[0;32m/Library/Frameworks/Python.framework/Versions/3.9/lib/python3.9/socket.py:822\u001b[0m, in \u001b[0;36mcreate_connection\u001b[0;34m(address, timeout, source_address)\u001b[0m\n\u001b[1;32m    821\u001b[0m err \u001b[39m=\u001b[39m \u001b[39mNone\u001b[39;00m\n\u001b[0;32m--> 822\u001b[0m \u001b[39mfor\u001b[39;00m res \u001b[39min\u001b[39;00m getaddrinfo(host, port, \u001b[39m0\u001b[39;49m, SOCK_STREAM):\n\u001b[1;32m    823\u001b[0m     af, socktype, proto, canonname, sa \u001b[39m=\u001b[39m res\n",
      "File \u001b[0;32m/Library/Frameworks/Python.framework/Versions/3.9/lib/python3.9/socket.py:953\u001b[0m, in \u001b[0;36mgetaddrinfo\u001b[0;34m(host, port, family, type, proto, flags)\u001b[0m\n\u001b[1;32m    952\u001b[0m addrlist \u001b[39m=\u001b[39m []\n\u001b[0;32m--> 953\u001b[0m \u001b[39mfor\u001b[39;00m res \u001b[39min\u001b[39;00m _socket\u001b[39m.\u001b[39;49mgetaddrinfo(host, port, family, \u001b[39mtype\u001b[39;49m, proto, flags):\n\u001b[1;32m    954\u001b[0m     af, socktype, proto, canonname, sa \u001b[39m=\u001b[39m res\n",
      "\u001b[0;31mUnicodeError\u001b[0m: encoding with 'idna' codec failed (UnicodeError: label empty or too long)",
      "\nDuring handling of the above exception, another exception occurred:\n",
      "\u001b[0;31mUnicodeError\u001b[0m                              Traceback (most recent call last)",
      "File \u001b[0;32m/Library/Frameworks/Python.framework/Versions/3.9/lib/python3.9/encodings/idna.py:165\u001b[0m, in \u001b[0;36mCodec.encode\u001b[0;34m(self, input, errors)\u001b[0m\n\u001b[1;32m    164\u001b[0m     \u001b[39mif\u001b[39;00m \u001b[39mnot\u001b[39;00m (\u001b[39m0\u001b[39m \u001b[39m<\u001b[39m \u001b[39mlen\u001b[39m(label) \u001b[39m<\u001b[39m \u001b[39m64\u001b[39m):\n\u001b[0;32m--> 165\u001b[0m         \u001b[39mraise\u001b[39;00m \u001b[39mUnicodeError\u001b[39;00m(\u001b[39m\"\u001b[39m\u001b[39mlabel empty or too long\u001b[39m\u001b[39m\"\u001b[39m)\n\u001b[1;32m    166\u001b[0m \u001b[39mif\u001b[39;00m \u001b[39mlen\u001b[39m(labels[\u001b[39m-\u001b[39m\u001b[39m1\u001b[39m]) \u001b[39m>\u001b[39m\u001b[39m=\u001b[39m \u001b[39m64\u001b[39m:\n",
      "\u001b[0;31mUnicodeError\u001b[0m: label empty or too long",
      "\nThe above exception was the direct cause of the following exception:\n",
      "\u001b[0;31mUnicodeError\u001b[0m                              Traceback (most recent call last)",
      "File \u001b[0;32m/Library/Frameworks/Python.framework/Versions/3.9/lib/python3.9/site-packages/openai/_base_client.py:887\u001b[0m, in \u001b[0;36mSyncAPIClient._request\u001b[0;34m(self, cast_to, options, remaining_retries, stream, stream_cls)\u001b[0m\n\u001b[1;32m    886\u001b[0m \u001b[39mtry\u001b[39;00m:\n\u001b[0;32m--> 887\u001b[0m     response \u001b[39m=\u001b[39m \u001b[39mself\u001b[39;49m\u001b[39m.\u001b[39;49m_client\u001b[39m.\u001b[39;49msend(\n\u001b[1;32m    888\u001b[0m         request,\n\u001b[1;32m    889\u001b[0m         stream\u001b[39m=\u001b[39;49mstream \u001b[39mor\u001b[39;49;00m \u001b[39mself\u001b[39;49m\u001b[39m.\u001b[39;49m_should_stream_response_body(request\u001b[39m=\u001b[39;49mrequest),\n\u001b[1;32m    890\u001b[0m         \u001b[39m*\u001b[39;49m\u001b[39m*\u001b[39;49mkwargs,\n\u001b[1;32m    891\u001b[0m     )\n\u001b[1;32m    892\u001b[0m \u001b[39mexcept\u001b[39;00m httpx\u001b[39m.\u001b[39mTimeoutException \u001b[39mas\u001b[39;00m err:\n",
      "File \u001b[0;32m/Library/Frameworks/Python.framework/Versions/3.9/lib/python3.9/site-packages/httpx/_client.py:915\u001b[0m, in \u001b[0;36mClient.send\u001b[0;34m(self, request, stream, auth, follow_redirects)\u001b[0m\n\u001b[1;32m    913\u001b[0m auth \u001b[39m=\u001b[39m \u001b[39mself\u001b[39m\u001b[39m.\u001b[39m_build_request_auth(request, auth)\n\u001b[0;32m--> 915\u001b[0m response \u001b[39m=\u001b[39m \u001b[39mself\u001b[39;49m\u001b[39m.\u001b[39;49m_send_handling_auth(\n\u001b[1;32m    916\u001b[0m     request,\n\u001b[1;32m    917\u001b[0m     auth\u001b[39m=\u001b[39;49mauth,\n\u001b[1;32m    918\u001b[0m     follow_redirects\u001b[39m=\u001b[39;49mfollow_redirects,\n\u001b[1;32m    919\u001b[0m     history\u001b[39m=\u001b[39;49m[],\n\u001b[1;32m    920\u001b[0m )\n\u001b[1;32m    921\u001b[0m \u001b[39mtry\u001b[39;00m:\n",
      "File \u001b[0;32m/Library/Frameworks/Python.framework/Versions/3.9/lib/python3.9/site-packages/httpx/_client.py:943\u001b[0m, in \u001b[0;36mClient._send_handling_auth\u001b[0;34m(self, request, auth, follow_redirects, history)\u001b[0m\n\u001b[1;32m    942\u001b[0m \u001b[39mwhile\u001b[39;00m \u001b[39mTrue\u001b[39;00m:\n\u001b[0;32m--> 943\u001b[0m     response \u001b[39m=\u001b[39m \u001b[39mself\u001b[39;49m\u001b[39m.\u001b[39;49m_send_handling_redirects(\n\u001b[1;32m    944\u001b[0m         request,\n\u001b[1;32m    945\u001b[0m         follow_redirects\u001b[39m=\u001b[39;49mfollow_redirects,\n\u001b[1;32m    946\u001b[0m         history\u001b[39m=\u001b[39;49mhistory,\n\u001b[1;32m    947\u001b[0m     )\n\u001b[1;32m    948\u001b[0m     \u001b[39mtry\u001b[39;00m:\n",
      "File \u001b[0;32m/Library/Frameworks/Python.framework/Versions/3.9/lib/python3.9/site-packages/httpx/_client.py:980\u001b[0m, in \u001b[0;36mClient._send_handling_redirects\u001b[0;34m(self, request, follow_redirects, history)\u001b[0m\n\u001b[1;32m    978\u001b[0m     hook(request)\n\u001b[0;32m--> 980\u001b[0m response \u001b[39m=\u001b[39m \u001b[39mself\u001b[39;49m\u001b[39m.\u001b[39;49m_send_single_request(request)\n\u001b[1;32m    981\u001b[0m \u001b[39mtry\u001b[39;00m:\n",
      "File \u001b[0;32m/Library/Frameworks/Python.framework/Versions/3.9/lib/python3.9/site-packages/httpx/_client.py:1016\u001b[0m, in \u001b[0;36mClient._send_single_request\u001b[0;34m(self, request)\u001b[0m\n\u001b[1;32m   1015\u001b[0m \u001b[39mwith\u001b[39;00m request_context(request\u001b[39m=\u001b[39mrequest):\n\u001b[0;32m-> 1016\u001b[0m     response \u001b[39m=\u001b[39m transport\u001b[39m.\u001b[39;49mhandle_request(request)\n\u001b[1;32m   1018\u001b[0m \u001b[39massert\u001b[39;00m \u001b[39misinstance\u001b[39m(response\u001b[39m.\u001b[39mstream, SyncByteStream)\n",
      "File \u001b[0;32m/Library/Frameworks/Python.framework/Versions/3.9/lib/python3.9/site-packages/httpx/_transports/default.py:231\u001b[0m, in \u001b[0;36mHTTPTransport.handle_request\u001b[0;34m(self, request)\u001b[0m\n\u001b[1;32m    230\u001b[0m \u001b[39mwith\u001b[39;00m map_httpcore_exceptions():\n\u001b[0;32m--> 231\u001b[0m     resp \u001b[39m=\u001b[39m \u001b[39mself\u001b[39;49m\u001b[39m.\u001b[39;49m_pool\u001b[39m.\u001b[39;49mhandle_request(req)\n\u001b[1;32m    233\u001b[0m \u001b[39massert\u001b[39;00m \u001b[39misinstance\u001b[39m(resp\u001b[39m.\u001b[39mstream, typing\u001b[39m.\u001b[39mIterable)\n",
      "File \u001b[0;32m/Library/Frameworks/Python.framework/Versions/3.9/lib/python3.9/site-packages/httpcore/_sync/connection_pool.py:268\u001b[0m, in \u001b[0;36mConnectionPool.handle_request\u001b[0;34m(self, request)\u001b[0m\n\u001b[1;32m    267\u001b[0m         \u001b[39mself\u001b[39m\u001b[39m.\u001b[39mresponse_closed(status)\n\u001b[0;32m--> 268\u001b[0m     \u001b[39mraise\u001b[39;00m exc\n\u001b[1;32m    269\u001b[0m \u001b[39melse\u001b[39;00m:\n",
      "File \u001b[0;32m/Library/Frameworks/Python.framework/Versions/3.9/lib/python3.9/site-packages/httpcore/_sync/connection_pool.py:251\u001b[0m, in \u001b[0;36mConnectionPool.handle_request\u001b[0;34m(self, request)\u001b[0m\n\u001b[1;32m    250\u001b[0m \u001b[39mtry\u001b[39;00m:\n\u001b[0;32m--> 251\u001b[0m     response \u001b[39m=\u001b[39m connection\u001b[39m.\u001b[39;49mhandle_request(request)\n\u001b[1;32m    252\u001b[0m \u001b[39mexcept\u001b[39;00m ConnectionNotAvailable:\n\u001b[1;32m    253\u001b[0m     \u001b[39m# The ConnectionNotAvailable exception is a special case, that\u001b[39;00m\n\u001b[1;32m    254\u001b[0m     \u001b[39m# indicates we need to retry the request on a new connection.\u001b[39;00m\n\u001b[0;32m   (...)\u001b[0m\n\u001b[1;32m    258\u001b[0m     \u001b[39m# might end up as an HTTP/2 connection, but which actually ends\u001b[39;00m\n\u001b[1;32m    259\u001b[0m     \u001b[39m# up as HTTP/1.1.\u001b[39;00m\n",
      "File \u001b[0;32m/Library/Frameworks/Python.framework/Versions/3.9/lib/python3.9/site-packages/httpcore/_sync/connection.py:99\u001b[0m, in \u001b[0;36mHTTPConnection.handle_request\u001b[0;34m(self, request)\u001b[0m\n\u001b[1;32m     98\u001b[0m         \u001b[39mself\u001b[39m\u001b[39m.\u001b[39m_connect_failed \u001b[39m=\u001b[39m \u001b[39mTrue\u001b[39;00m\n\u001b[0;32m---> 99\u001b[0m         \u001b[39mraise\u001b[39;00m exc\n\u001b[1;32m    100\u001b[0m \u001b[39melif\u001b[39;00m \u001b[39mnot\u001b[39;00m \u001b[39mself\u001b[39m\u001b[39m.\u001b[39m_connection\u001b[39m.\u001b[39mis_available():\n",
      "File \u001b[0;32m/Library/Frameworks/Python.framework/Versions/3.9/lib/python3.9/site-packages/httpcore/_sync/connection.py:76\u001b[0m, in \u001b[0;36mHTTPConnection.handle_request\u001b[0;34m(self, request)\u001b[0m\n\u001b[1;32m     75\u001b[0m \u001b[39mtry\u001b[39;00m:\n\u001b[0;32m---> 76\u001b[0m     stream \u001b[39m=\u001b[39m \u001b[39mself\u001b[39;49m\u001b[39m.\u001b[39;49m_connect(request)\n\u001b[1;32m     78\u001b[0m     ssl_object \u001b[39m=\u001b[39m stream\u001b[39m.\u001b[39mget_extra_info(\u001b[39m\"\u001b[39m\u001b[39mssl_object\u001b[39m\u001b[39m\"\u001b[39m)\n",
      "File \u001b[0;32m/Library/Frameworks/Python.framework/Versions/3.9/lib/python3.9/site-packages/httpcore/_sync/connection.py:124\u001b[0m, in \u001b[0;36mHTTPConnection._connect\u001b[0;34m(self, request)\u001b[0m\n\u001b[1;32m    123\u001b[0m \u001b[39mwith\u001b[39;00m Trace(\u001b[39m\"\u001b[39m\u001b[39mconnect_tcp\u001b[39m\u001b[39m\"\u001b[39m, logger, request, kwargs) \u001b[39mas\u001b[39;00m trace:\n\u001b[0;32m--> 124\u001b[0m     stream \u001b[39m=\u001b[39m \u001b[39mself\u001b[39;49m\u001b[39m.\u001b[39;49m_network_backend\u001b[39m.\u001b[39;49mconnect_tcp(\u001b[39m*\u001b[39;49m\u001b[39m*\u001b[39;49mkwargs)\n\u001b[1;32m    125\u001b[0m     trace\u001b[39m.\u001b[39mreturn_value \u001b[39m=\u001b[39m stream\n",
      "File \u001b[0;32m/Library/Frameworks/Python.framework/Versions/3.9/lib/python3.9/site-packages/httpcore/_backends/sync.py:206\u001b[0m, in \u001b[0;36mSyncBackend.connect_tcp\u001b[0;34m(self, host, port, timeout, local_address, socket_options)\u001b[0m\n\u001b[1;32m    205\u001b[0m \u001b[39mwith\u001b[39;00m map_exceptions(exc_map):\n\u001b[0;32m--> 206\u001b[0m     sock \u001b[39m=\u001b[39m socket\u001b[39m.\u001b[39;49mcreate_connection(\n\u001b[1;32m    207\u001b[0m         address,\n\u001b[1;32m    208\u001b[0m         timeout,\n\u001b[1;32m    209\u001b[0m         source_address\u001b[39m=\u001b[39;49msource_address,\n\u001b[1;32m    210\u001b[0m     )\n\u001b[1;32m    211\u001b[0m     \u001b[39mfor\u001b[39;00m option \u001b[39min\u001b[39;00m socket_options:\n",
      "File \u001b[0;32m/Library/Frameworks/Python.framework/Versions/3.9/lib/python3.9/socket.py:822\u001b[0m, in \u001b[0;36mcreate_connection\u001b[0;34m(address, timeout, source_address)\u001b[0m\n\u001b[1;32m    821\u001b[0m err \u001b[39m=\u001b[39m \u001b[39mNone\u001b[39;00m\n\u001b[0;32m--> 822\u001b[0m \u001b[39mfor\u001b[39;00m res \u001b[39min\u001b[39;00m getaddrinfo(host, port, \u001b[39m0\u001b[39;49m, SOCK_STREAM):\n\u001b[1;32m    823\u001b[0m     af, socktype, proto, canonname, sa \u001b[39m=\u001b[39m res\n",
      "File \u001b[0;32m/Library/Frameworks/Python.framework/Versions/3.9/lib/python3.9/socket.py:953\u001b[0m, in \u001b[0;36mgetaddrinfo\u001b[0;34m(host, port, family, type, proto, flags)\u001b[0m\n\u001b[1;32m    952\u001b[0m addrlist \u001b[39m=\u001b[39m []\n\u001b[0;32m--> 953\u001b[0m \u001b[39mfor\u001b[39;00m res \u001b[39min\u001b[39;00m _socket\u001b[39m.\u001b[39;49mgetaddrinfo(host, port, family, \u001b[39mtype\u001b[39;49m, proto, flags):\n\u001b[1;32m    954\u001b[0m     af, socktype, proto, canonname, sa \u001b[39m=\u001b[39m res\n",
      "\u001b[0;31mUnicodeError\u001b[0m: encoding with 'idna' codec failed (UnicodeError: label empty or too long)",
      "\nDuring handling of the above exception, another exception occurred:\n",
      "\u001b[0;31mUnicodeError\u001b[0m                              Traceback (most recent call last)",
      "File \u001b[0;32m/Library/Frameworks/Python.framework/Versions/3.9/lib/python3.9/encodings/idna.py:165\u001b[0m, in \u001b[0;36mCodec.encode\u001b[0;34m(self, input, errors)\u001b[0m\n\u001b[1;32m    164\u001b[0m     \u001b[39mif\u001b[39;00m \u001b[39mnot\u001b[39;00m (\u001b[39m0\u001b[39m \u001b[39m<\u001b[39m \u001b[39mlen\u001b[39m(label) \u001b[39m<\u001b[39m \u001b[39m64\u001b[39m):\n\u001b[0;32m--> 165\u001b[0m         \u001b[39mraise\u001b[39;00m \u001b[39mUnicodeError\u001b[39;00m(\u001b[39m\"\u001b[39m\u001b[39mlabel empty or too long\u001b[39m\u001b[39m\"\u001b[39m)\n\u001b[1;32m    166\u001b[0m \u001b[39mif\u001b[39;00m \u001b[39mlen\u001b[39m(labels[\u001b[39m-\u001b[39m\u001b[39m1\u001b[39m]) \u001b[39m>\u001b[39m\u001b[39m=\u001b[39m \u001b[39m64\u001b[39m:\n",
      "\u001b[0;31mUnicodeError\u001b[0m: label empty or too long",
      "\nThe above exception was the direct cause of the following exception:\n",
      "\u001b[0;31mUnicodeError\u001b[0m                              Traceback (most recent call last)",
      "File \u001b[0;32m/Library/Frameworks/Python.framework/Versions/3.9/lib/python3.9/site-packages/openai/_base_client.py:887\u001b[0m, in \u001b[0;36mSyncAPIClient._request\u001b[0;34m(self, cast_to, options, remaining_retries, stream, stream_cls)\u001b[0m\n\u001b[1;32m    886\u001b[0m \u001b[39mtry\u001b[39;00m:\n\u001b[0;32m--> 887\u001b[0m     response \u001b[39m=\u001b[39m \u001b[39mself\u001b[39;49m\u001b[39m.\u001b[39;49m_client\u001b[39m.\u001b[39;49msend(\n\u001b[1;32m    888\u001b[0m         request,\n\u001b[1;32m    889\u001b[0m         stream\u001b[39m=\u001b[39;49mstream \u001b[39mor\u001b[39;49;00m \u001b[39mself\u001b[39;49m\u001b[39m.\u001b[39;49m_should_stream_response_body(request\u001b[39m=\u001b[39;49mrequest),\n\u001b[1;32m    890\u001b[0m         \u001b[39m*\u001b[39;49m\u001b[39m*\u001b[39;49mkwargs,\n\u001b[1;32m    891\u001b[0m     )\n\u001b[1;32m    892\u001b[0m \u001b[39mexcept\u001b[39;00m httpx\u001b[39m.\u001b[39mTimeoutException \u001b[39mas\u001b[39;00m err:\n",
      "File \u001b[0;32m/Library/Frameworks/Python.framework/Versions/3.9/lib/python3.9/site-packages/httpx/_client.py:915\u001b[0m, in \u001b[0;36mClient.send\u001b[0;34m(self, request, stream, auth, follow_redirects)\u001b[0m\n\u001b[1;32m    913\u001b[0m auth \u001b[39m=\u001b[39m \u001b[39mself\u001b[39m\u001b[39m.\u001b[39m_build_request_auth(request, auth)\n\u001b[0;32m--> 915\u001b[0m response \u001b[39m=\u001b[39m \u001b[39mself\u001b[39;49m\u001b[39m.\u001b[39;49m_send_handling_auth(\n\u001b[1;32m    916\u001b[0m     request,\n\u001b[1;32m    917\u001b[0m     auth\u001b[39m=\u001b[39;49mauth,\n\u001b[1;32m    918\u001b[0m     follow_redirects\u001b[39m=\u001b[39;49mfollow_redirects,\n\u001b[1;32m    919\u001b[0m     history\u001b[39m=\u001b[39;49m[],\n\u001b[1;32m    920\u001b[0m )\n\u001b[1;32m    921\u001b[0m \u001b[39mtry\u001b[39;00m:\n",
      "File \u001b[0;32m/Library/Frameworks/Python.framework/Versions/3.9/lib/python3.9/site-packages/httpx/_client.py:943\u001b[0m, in \u001b[0;36mClient._send_handling_auth\u001b[0;34m(self, request, auth, follow_redirects, history)\u001b[0m\n\u001b[1;32m    942\u001b[0m \u001b[39mwhile\u001b[39;00m \u001b[39mTrue\u001b[39;00m:\n\u001b[0;32m--> 943\u001b[0m     response \u001b[39m=\u001b[39m \u001b[39mself\u001b[39;49m\u001b[39m.\u001b[39;49m_send_handling_redirects(\n\u001b[1;32m    944\u001b[0m         request,\n\u001b[1;32m    945\u001b[0m         follow_redirects\u001b[39m=\u001b[39;49mfollow_redirects,\n\u001b[1;32m    946\u001b[0m         history\u001b[39m=\u001b[39;49mhistory,\n\u001b[1;32m    947\u001b[0m     )\n\u001b[1;32m    948\u001b[0m     \u001b[39mtry\u001b[39;00m:\n",
      "File \u001b[0;32m/Library/Frameworks/Python.framework/Versions/3.9/lib/python3.9/site-packages/httpx/_client.py:980\u001b[0m, in \u001b[0;36mClient._send_handling_redirects\u001b[0;34m(self, request, follow_redirects, history)\u001b[0m\n\u001b[1;32m    978\u001b[0m     hook(request)\n\u001b[0;32m--> 980\u001b[0m response \u001b[39m=\u001b[39m \u001b[39mself\u001b[39;49m\u001b[39m.\u001b[39;49m_send_single_request(request)\n\u001b[1;32m    981\u001b[0m \u001b[39mtry\u001b[39;00m:\n",
      "File \u001b[0;32m/Library/Frameworks/Python.framework/Versions/3.9/lib/python3.9/site-packages/httpx/_client.py:1016\u001b[0m, in \u001b[0;36mClient._send_single_request\u001b[0;34m(self, request)\u001b[0m\n\u001b[1;32m   1015\u001b[0m \u001b[39mwith\u001b[39;00m request_context(request\u001b[39m=\u001b[39mrequest):\n\u001b[0;32m-> 1016\u001b[0m     response \u001b[39m=\u001b[39m transport\u001b[39m.\u001b[39;49mhandle_request(request)\n\u001b[1;32m   1018\u001b[0m \u001b[39massert\u001b[39;00m \u001b[39misinstance\u001b[39m(response\u001b[39m.\u001b[39mstream, SyncByteStream)\n",
      "File \u001b[0;32m/Library/Frameworks/Python.framework/Versions/3.9/lib/python3.9/site-packages/httpx/_transports/default.py:231\u001b[0m, in \u001b[0;36mHTTPTransport.handle_request\u001b[0;34m(self, request)\u001b[0m\n\u001b[1;32m    230\u001b[0m \u001b[39mwith\u001b[39;00m map_httpcore_exceptions():\n\u001b[0;32m--> 231\u001b[0m     resp \u001b[39m=\u001b[39m \u001b[39mself\u001b[39;49m\u001b[39m.\u001b[39;49m_pool\u001b[39m.\u001b[39;49mhandle_request(req)\n\u001b[1;32m    233\u001b[0m \u001b[39massert\u001b[39;00m \u001b[39misinstance\u001b[39m(resp\u001b[39m.\u001b[39mstream, typing\u001b[39m.\u001b[39mIterable)\n",
      "File \u001b[0;32m/Library/Frameworks/Python.framework/Versions/3.9/lib/python3.9/site-packages/httpcore/_sync/connection_pool.py:268\u001b[0m, in \u001b[0;36mConnectionPool.handle_request\u001b[0;34m(self, request)\u001b[0m\n\u001b[1;32m    267\u001b[0m         \u001b[39mself\u001b[39m\u001b[39m.\u001b[39mresponse_closed(status)\n\u001b[0;32m--> 268\u001b[0m     \u001b[39mraise\u001b[39;00m exc\n\u001b[1;32m    269\u001b[0m \u001b[39melse\u001b[39;00m:\n",
      "File \u001b[0;32m/Library/Frameworks/Python.framework/Versions/3.9/lib/python3.9/site-packages/httpcore/_sync/connection_pool.py:251\u001b[0m, in \u001b[0;36mConnectionPool.handle_request\u001b[0;34m(self, request)\u001b[0m\n\u001b[1;32m    250\u001b[0m \u001b[39mtry\u001b[39;00m:\n\u001b[0;32m--> 251\u001b[0m     response \u001b[39m=\u001b[39m connection\u001b[39m.\u001b[39;49mhandle_request(request)\n\u001b[1;32m    252\u001b[0m \u001b[39mexcept\u001b[39;00m ConnectionNotAvailable:\n\u001b[1;32m    253\u001b[0m     \u001b[39m# The ConnectionNotAvailable exception is a special case, that\u001b[39;00m\n\u001b[1;32m    254\u001b[0m     \u001b[39m# indicates we need to retry the request on a new connection.\u001b[39;00m\n\u001b[0;32m   (...)\u001b[0m\n\u001b[1;32m    258\u001b[0m     \u001b[39m# might end up as an HTTP/2 connection, but which actually ends\u001b[39;00m\n\u001b[1;32m    259\u001b[0m     \u001b[39m# up as HTTP/1.1.\u001b[39;00m\n",
      "File \u001b[0;32m/Library/Frameworks/Python.framework/Versions/3.9/lib/python3.9/site-packages/httpcore/_sync/connection.py:99\u001b[0m, in \u001b[0;36mHTTPConnection.handle_request\u001b[0;34m(self, request)\u001b[0m\n\u001b[1;32m     98\u001b[0m         \u001b[39mself\u001b[39m\u001b[39m.\u001b[39m_connect_failed \u001b[39m=\u001b[39m \u001b[39mTrue\u001b[39;00m\n\u001b[0;32m---> 99\u001b[0m         \u001b[39mraise\u001b[39;00m exc\n\u001b[1;32m    100\u001b[0m \u001b[39melif\u001b[39;00m \u001b[39mnot\u001b[39;00m \u001b[39mself\u001b[39m\u001b[39m.\u001b[39m_connection\u001b[39m.\u001b[39mis_available():\n",
      "File \u001b[0;32m/Library/Frameworks/Python.framework/Versions/3.9/lib/python3.9/site-packages/httpcore/_sync/connection.py:76\u001b[0m, in \u001b[0;36mHTTPConnection.handle_request\u001b[0;34m(self, request)\u001b[0m\n\u001b[1;32m     75\u001b[0m \u001b[39mtry\u001b[39;00m:\n\u001b[0;32m---> 76\u001b[0m     stream \u001b[39m=\u001b[39m \u001b[39mself\u001b[39;49m\u001b[39m.\u001b[39;49m_connect(request)\n\u001b[1;32m     78\u001b[0m     ssl_object \u001b[39m=\u001b[39m stream\u001b[39m.\u001b[39mget_extra_info(\u001b[39m\"\u001b[39m\u001b[39mssl_object\u001b[39m\u001b[39m\"\u001b[39m)\n",
      "File \u001b[0;32m/Library/Frameworks/Python.framework/Versions/3.9/lib/python3.9/site-packages/httpcore/_sync/connection.py:124\u001b[0m, in \u001b[0;36mHTTPConnection._connect\u001b[0;34m(self, request)\u001b[0m\n\u001b[1;32m    123\u001b[0m \u001b[39mwith\u001b[39;00m Trace(\u001b[39m\"\u001b[39m\u001b[39mconnect_tcp\u001b[39m\u001b[39m\"\u001b[39m, logger, request, kwargs) \u001b[39mas\u001b[39;00m trace:\n\u001b[0;32m--> 124\u001b[0m     stream \u001b[39m=\u001b[39m \u001b[39mself\u001b[39;49m\u001b[39m.\u001b[39;49m_network_backend\u001b[39m.\u001b[39;49mconnect_tcp(\u001b[39m*\u001b[39;49m\u001b[39m*\u001b[39;49mkwargs)\n\u001b[1;32m    125\u001b[0m     trace\u001b[39m.\u001b[39mreturn_value \u001b[39m=\u001b[39m stream\n",
      "File \u001b[0;32m/Library/Frameworks/Python.framework/Versions/3.9/lib/python3.9/site-packages/httpcore/_backends/sync.py:206\u001b[0m, in \u001b[0;36mSyncBackend.connect_tcp\u001b[0;34m(self, host, port, timeout, local_address, socket_options)\u001b[0m\n\u001b[1;32m    205\u001b[0m \u001b[39mwith\u001b[39;00m map_exceptions(exc_map):\n\u001b[0;32m--> 206\u001b[0m     sock \u001b[39m=\u001b[39m socket\u001b[39m.\u001b[39;49mcreate_connection(\n\u001b[1;32m    207\u001b[0m         address,\n\u001b[1;32m    208\u001b[0m         timeout,\n\u001b[1;32m    209\u001b[0m         source_address\u001b[39m=\u001b[39;49msource_address,\n\u001b[1;32m    210\u001b[0m     )\n\u001b[1;32m    211\u001b[0m     \u001b[39mfor\u001b[39;00m option \u001b[39min\u001b[39;00m socket_options:\n",
      "File \u001b[0;32m/Library/Frameworks/Python.framework/Versions/3.9/lib/python3.9/socket.py:822\u001b[0m, in \u001b[0;36mcreate_connection\u001b[0;34m(address, timeout, source_address)\u001b[0m\n\u001b[1;32m    821\u001b[0m err \u001b[39m=\u001b[39m \u001b[39mNone\u001b[39;00m\n\u001b[0;32m--> 822\u001b[0m \u001b[39mfor\u001b[39;00m res \u001b[39min\u001b[39;00m getaddrinfo(host, port, \u001b[39m0\u001b[39;49m, SOCK_STREAM):\n\u001b[1;32m    823\u001b[0m     af, socktype, proto, canonname, sa \u001b[39m=\u001b[39m res\n",
      "File \u001b[0;32m/Library/Frameworks/Python.framework/Versions/3.9/lib/python3.9/socket.py:953\u001b[0m, in \u001b[0;36mgetaddrinfo\u001b[0;34m(host, port, family, type, proto, flags)\u001b[0m\n\u001b[1;32m    952\u001b[0m addrlist \u001b[39m=\u001b[39m []\n\u001b[0;32m--> 953\u001b[0m \u001b[39mfor\u001b[39;00m res \u001b[39min\u001b[39;00m _socket\u001b[39m.\u001b[39;49mgetaddrinfo(host, port, family, \u001b[39mtype\u001b[39;49m, proto, flags):\n\u001b[1;32m    954\u001b[0m     af, socktype, proto, canonname, sa \u001b[39m=\u001b[39m res\n",
      "\u001b[0;31mUnicodeError\u001b[0m: encoding with 'idna' codec failed (UnicodeError: label empty or too long)",
      "\nThe above exception was the direct cause of the following exception:\n",
      "\u001b[0;31mAPIConnectionError\u001b[0m                        Traceback (most recent call last)",
      "\u001b[1;32m/Users/RishiPrasadha/Desktop/Guzo-Workspace/Guzo_NLP/draft_nlp_models.ipynb Cell 14'\u001b[0m in \u001b[0;36m<cell line: 23>\u001b[0;34m()\u001b[0m\n\u001b[1;32m     <a href='vscode-notebook-cell:/Users/RishiPrasadha/Desktop/Guzo-Workspace/Guzo_NLP/draft_nlp_models.ipynb#ch0000013?line=19'>20</a>\u001b[0m openai\u001b[39m.\u001b[39mbase_url \u001b[39m=\u001b[39m \u001b[39m'\u001b[39m\u001b[39mhttps://...\u001b[39m\u001b[39m'\u001b[39m\n\u001b[1;32m     <a href='vscode-notebook-cell:/Users/RishiPrasadha/Desktop/Guzo-Workspace/Guzo_NLP/draft_nlp_models.ipynb#ch0000013?line=20'>21</a>\u001b[0m openai\u001b[39m.\u001b[39mdefault_headers \u001b[39m=\u001b[39m {\u001b[39m'\u001b[39m\u001b[39mx-foo\u001b[39m\u001b[39m'\u001b[39m: \u001b[39m'\u001b[39m\u001b[39mtrue\u001b[39m\u001b[39m'\u001b[39m}\n\u001b[0;32m---> <a href='vscode-notebook-cell:/Users/RishiPrasadha/Desktop/Guzo-Workspace/Guzo_NLP/draft_nlp_models.ipynb#ch0000013?line=22'>23</a>\u001b[0m extraction \u001b[39m=\u001b[39m openai\u001b[39m.\u001b[39;49mchat\u001b[39m.\u001b[39;49mcompletions\u001b[39m.\u001b[39;49mcreate(\n\u001b[1;32m     <a href='vscode-notebook-cell:/Users/RishiPrasadha/Desktop/Guzo-Workspace/Guzo_NLP/draft_nlp_models.ipynb#ch0000013?line=23'>24</a>\u001b[0m     model\u001b[39m=\u001b[39;49m\u001b[39m'\u001b[39;49m\u001b[39mgpt-4\u001b[39;49m\u001b[39m'\u001b[39;49m,\n\u001b[1;32m     <a href='vscode-notebook-cell:/Users/RishiPrasadha/Desktop/Guzo-Workspace/Guzo_NLP/draft_nlp_models.ipynb#ch0000013?line=24'>25</a>\u001b[0m     messages\u001b[39m=\u001b[39;49m[\n\u001b[1;32m     <a href='vscode-notebook-cell:/Users/RishiPrasadha/Desktop/Guzo-Workspace/Guzo_NLP/draft_nlp_models.ipynb#ch0000013?line=25'>26</a>\u001b[0m         {\n\u001b[1;32m     <a href='vscode-notebook-cell:/Users/RishiPrasadha/Desktop/Guzo-Workspace/Guzo_NLP/draft_nlp_models.ipynb#ch0000013?line=26'>27</a>\u001b[0m             \u001b[39m'\u001b[39;49m\u001b[39mrole\u001b[39;49m\u001b[39m'\u001b[39;49m:\u001b[39m'\u001b[39;49m\u001b[39muser\u001b[39;49m\u001b[39m'\u001b[39;49m,\n\u001b[1;32m     <a href='vscode-notebook-cell:/Users/RishiPrasadha/Desktop/Guzo-Workspace/Guzo_NLP/draft_nlp_models.ipynb#ch0000013?line=27'>28</a>\u001b[0m             \u001b[39m'\u001b[39;49m\u001b[39mcontent\u001b[39;49m\u001b[39m'\u001b[39;49m: \u001b[39m'\u001b[39;49m\u001b[39mplease extract the keywords from this text:\u001b[39;49m\u001b[39m'\u001b[39;49m \u001b[39m+\u001b[39;49m text_input\n\u001b[1;32m     <a href='vscode-notebook-cell:/Users/RishiPrasadha/Desktop/Guzo-Workspace/Guzo_NLP/draft_nlp_models.ipynb#ch0000013?line=28'>29</a>\u001b[0m         },\n\u001b[1;32m     <a href='vscode-notebook-cell:/Users/RishiPrasadha/Desktop/Guzo-Workspace/Guzo_NLP/draft_nlp_models.ipynb#ch0000013?line=29'>30</a>\u001b[0m     ],\n\u001b[1;32m     <a href='vscode-notebook-cell:/Users/RishiPrasadha/Desktop/Guzo-Workspace/Guzo_NLP/draft_nlp_models.ipynb#ch0000013?line=30'>31</a>\u001b[0m )\n\u001b[1;32m     <a href='vscode-notebook-cell:/Users/RishiPrasadha/Desktop/Guzo-Workspace/Guzo_NLP/draft_nlp_models.ipynb#ch0000013?line=31'>32</a>\u001b[0m \u001b[39mprint\u001b[39m(extraction\u001b[39m.\u001b[39mchoices[\u001b[39m0\u001b[39m]\u001b[39m.\u001b[39mmessage\u001b[39m.\u001b[39mcontent)\n",
      "File \u001b[0;32m/Library/Frameworks/Python.framework/Versions/3.9/lib/python3.9/site-packages/openai/_utils/_utils.py:271\u001b[0m, in \u001b[0;36mrequired_args.<locals>.inner.<locals>.wrapper\u001b[0;34m(*args, **kwargs)\u001b[0m\n\u001b[1;32m    269\u001b[0m             msg \u001b[39m=\u001b[39m \u001b[39mf\u001b[39m\u001b[39m\"\u001b[39m\u001b[39mMissing required argument: \u001b[39m\u001b[39m{\u001b[39;00mquote(missing[\u001b[39m0\u001b[39m])\u001b[39m}\u001b[39;00m\u001b[39m\"\u001b[39m\n\u001b[1;32m    270\u001b[0m     \u001b[39mraise\u001b[39;00m \u001b[39mTypeError\u001b[39;00m(msg)\n\u001b[0;32m--> 271\u001b[0m \u001b[39mreturn\u001b[39;00m func(\u001b[39m*\u001b[39;49margs, \u001b[39m*\u001b[39;49m\u001b[39m*\u001b[39;49mkwargs)\n",
      "File \u001b[0;32m/Library/Frameworks/Python.framework/Versions/3.9/lib/python3.9/site-packages/openai/resources/chat/completions.py:643\u001b[0m, in \u001b[0;36mCompletions.create\u001b[0;34m(self, messages, model, frequency_penalty, function_call, functions, logit_bias, logprobs, max_tokens, n, presence_penalty, response_format, seed, stop, stream, temperature, tool_choice, tools, top_logprobs, top_p, user, extra_headers, extra_query, extra_body, timeout)\u001b[0m\n\u001b[1;32m    594\u001b[0m \u001b[39m@required_args\u001b[39m([\u001b[39m\"\u001b[39m\u001b[39mmessages\u001b[39m\u001b[39m\"\u001b[39m, \u001b[39m\"\u001b[39m\u001b[39mmodel\u001b[39m\u001b[39m\"\u001b[39m], [\u001b[39m\"\u001b[39m\u001b[39mmessages\u001b[39m\u001b[39m\"\u001b[39m, \u001b[39m\"\u001b[39m\u001b[39mmodel\u001b[39m\u001b[39m\"\u001b[39m, \u001b[39m\"\u001b[39m\u001b[39mstream\u001b[39m\u001b[39m\"\u001b[39m])\n\u001b[1;32m    595\u001b[0m \u001b[39mdef\u001b[39;00m \u001b[39mcreate\u001b[39m(\n\u001b[1;32m    596\u001b[0m     \u001b[39mself\u001b[39m,\n\u001b[0;32m   (...)\u001b[0m\n\u001b[1;32m    641\u001b[0m     timeout: \u001b[39mfloat\u001b[39m \u001b[39m|\u001b[39m httpx\u001b[39m.\u001b[39mTimeout \u001b[39m|\u001b[39m \u001b[39mNone\u001b[39;00m \u001b[39m|\u001b[39m NotGiven \u001b[39m=\u001b[39m NOT_GIVEN,\n\u001b[1;32m    642\u001b[0m ) \u001b[39m-\u001b[39m\u001b[39m>\u001b[39m ChatCompletion \u001b[39m|\u001b[39m Stream[ChatCompletionChunk]:\n\u001b[0;32m--> 643\u001b[0m     \u001b[39mreturn\u001b[39;00m \u001b[39mself\u001b[39;49m\u001b[39m.\u001b[39;49m_post(\n\u001b[1;32m    644\u001b[0m         \u001b[39m\"\u001b[39;49m\u001b[39m/chat/completions\u001b[39;49m\u001b[39m\"\u001b[39;49m,\n\u001b[1;32m    645\u001b[0m         body\u001b[39m=\u001b[39;49mmaybe_transform(\n\u001b[1;32m    646\u001b[0m             {\n\u001b[1;32m    647\u001b[0m                 \u001b[39m\"\u001b[39;49m\u001b[39mmessages\u001b[39;49m\u001b[39m\"\u001b[39;49m: messages,\n\u001b[1;32m    648\u001b[0m                 \u001b[39m\"\u001b[39;49m\u001b[39mmodel\u001b[39;49m\u001b[39m\"\u001b[39;49m: model,\n\u001b[1;32m    649\u001b[0m                 \u001b[39m\"\u001b[39;49m\u001b[39mfrequency_penalty\u001b[39;49m\u001b[39m\"\u001b[39;49m: frequency_penalty,\n\u001b[1;32m    650\u001b[0m                 \u001b[39m\"\u001b[39;49m\u001b[39mfunction_call\u001b[39;49m\u001b[39m\"\u001b[39;49m: function_call,\n\u001b[1;32m    651\u001b[0m                 \u001b[39m\"\u001b[39;49m\u001b[39mfunctions\u001b[39;49m\u001b[39m\"\u001b[39;49m: functions,\n\u001b[1;32m    652\u001b[0m                 \u001b[39m\"\u001b[39;49m\u001b[39mlogit_bias\u001b[39;49m\u001b[39m\"\u001b[39;49m: logit_bias,\n\u001b[1;32m    653\u001b[0m                 \u001b[39m\"\u001b[39;49m\u001b[39mlogprobs\u001b[39;49m\u001b[39m\"\u001b[39;49m: logprobs,\n\u001b[1;32m    654\u001b[0m                 \u001b[39m\"\u001b[39;49m\u001b[39mmax_tokens\u001b[39;49m\u001b[39m\"\u001b[39;49m: max_tokens,\n\u001b[1;32m    655\u001b[0m                 \u001b[39m\"\u001b[39;49m\u001b[39mn\u001b[39;49m\u001b[39m\"\u001b[39;49m: n,\n\u001b[1;32m    656\u001b[0m                 \u001b[39m\"\u001b[39;49m\u001b[39mpresence_penalty\u001b[39;49m\u001b[39m\"\u001b[39;49m: presence_penalty,\n\u001b[1;32m    657\u001b[0m                 \u001b[39m\"\u001b[39;49m\u001b[39mresponse_format\u001b[39;49m\u001b[39m\"\u001b[39;49m: response_format,\n\u001b[1;32m    658\u001b[0m                 \u001b[39m\"\u001b[39;49m\u001b[39mseed\u001b[39;49m\u001b[39m\"\u001b[39;49m: seed,\n\u001b[1;32m    659\u001b[0m                 \u001b[39m\"\u001b[39;49m\u001b[39mstop\u001b[39;49m\u001b[39m\"\u001b[39;49m: stop,\n\u001b[1;32m    660\u001b[0m                 \u001b[39m\"\u001b[39;49m\u001b[39mstream\u001b[39;49m\u001b[39m\"\u001b[39;49m: stream,\n\u001b[1;32m    661\u001b[0m                 \u001b[39m\"\u001b[39;49m\u001b[39mtemperature\u001b[39;49m\u001b[39m\"\u001b[39;49m: temperature,\n\u001b[1;32m    662\u001b[0m                 \u001b[39m\"\u001b[39;49m\u001b[39mtool_choice\u001b[39;49m\u001b[39m\"\u001b[39;49m: tool_choice,\n\u001b[1;32m    663\u001b[0m                 \u001b[39m\"\u001b[39;49m\u001b[39mtools\u001b[39;49m\u001b[39m\"\u001b[39;49m: tools,\n\u001b[1;32m    664\u001b[0m                 \u001b[39m\"\u001b[39;49m\u001b[39mtop_logprobs\u001b[39;49m\u001b[39m\"\u001b[39;49m: top_logprobs,\n\u001b[1;32m    665\u001b[0m                 \u001b[39m\"\u001b[39;49m\u001b[39mtop_p\u001b[39;49m\u001b[39m\"\u001b[39;49m: top_p,\n\u001b[1;32m    666\u001b[0m                 \u001b[39m\"\u001b[39;49m\u001b[39muser\u001b[39;49m\u001b[39m\"\u001b[39;49m: user,\n\u001b[1;32m    667\u001b[0m             },\n\u001b[1;32m    668\u001b[0m             completion_create_params\u001b[39m.\u001b[39;49mCompletionCreateParams,\n\u001b[1;32m    669\u001b[0m         ),\n\u001b[1;32m    670\u001b[0m         options\u001b[39m=\u001b[39;49mmake_request_options(\n\u001b[1;32m    671\u001b[0m             extra_headers\u001b[39m=\u001b[39;49mextra_headers, extra_query\u001b[39m=\u001b[39;49mextra_query, extra_body\u001b[39m=\u001b[39;49mextra_body, timeout\u001b[39m=\u001b[39;49mtimeout\n\u001b[1;32m    672\u001b[0m         ),\n\u001b[1;32m    673\u001b[0m         cast_to\u001b[39m=\u001b[39;49mChatCompletion,\n\u001b[1;32m    674\u001b[0m         stream\u001b[39m=\u001b[39;49mstream \u001b[39mor\u001b[39;49;00m \u001b[39mFalse\u001b[39;49;00m,\n\u001b[1;32m    675\u001b[0m         stream_cls\u001b[39m=\u001b[39;49mStream[ChatCompletionChunk],\n\u001b[1;32m    676\u001b[0m     )\n",
      "File \u001b[0;32m/Library/Frameworks/Python.framework/Versions/3.9/lib/python3.9/site-packages/openai/_base_client.py:1112\u001b[0m, in \u001b[0;36mSyncAPIClient.post\u001b[0;34m(self, path, cast_to, body, options, files, stream, stream_cls)\u001b[0m\n\u001b[1;32m   1098\u001b[0m \u001b[39mdef\u001b[39;00m \u001b[39mpost\u001b[39m(\n\u001b[1;32m   1099\u001b[0m     \u001b[39mself\u001b[39m,\n\u001b[1;32m   1100\u001b[0m     path: \u001b[39mstr\u001b[39m,\n\u001b[0;32m   (...)\u001b[0m\n\u001b[1;32m   1107\u001b[0m     stream_cls: \u001b[39mtype\u001b[39m[_StreamT] \u001b[39m|\u001b[39m \u001b[39mNone\u001b[39;00m \u001b[39m=\u001b[39m \u001b[39mNone\u001b[39;00m,\n\u001b[1;32m   1108\u001b[0m ) \u001b[39m-\u001b[39m\u001b[39m>\u001b[39m ResponseT \u001b[39m|\u001b[39m _StreamT:\n\u001b[1;32m   1109\u001b[0m     opts \u001b[39m=\u001b[39m FinalRequestOptions\u001b[39m.\u001b[39mconstruct(\n\u001b[1;32m   1110\u001b[0m         method\u001b[39m=\u001b[39m\u001b[39m\"\u001b[39m\u001b[39mpost\u001b[39m\u001b[39m\"\u001b[39m, url\u001b[39m=\u001b[39mpath, json_data\u001b[39m=\u001b[39mbody, files\u001b[39m=\u001b[39mto_httpx_files(files), \u001b[39m*\u001b[39m\u001b[39m*\u001b[39moptions\n\u001b[1;32m   1111\u001b[0m     )\n\u001b[0;32m-> 1112\u001b[0m     \u001b[39mreturn\u001b[39;00m cast(ResponseT, \u001b[39mself\u001b[39;49m\u001b[39m.\u001b[39;49mrequest(cast_to, opts, stream\u001b[39m=\u001b[39;49mstream, stream_cls\u001b[39m=\u001b[39;49mstream_cls))\n",
      "File \u001b[0;32m/Library/Frameworks/Python.framework/Versions/3.9/lib/python3.9/site-packages/openai/_base_client.py:859\u001b[0m, in \u001b[0;36mSyncAPIClient.request\u001b[0;34m(self, cast_to, options, remaining_retries, stream, stream_cls)\u001b[0m\n\u001b[1;32m    850\u001b[0m \u001b[39mdef\u001b[39;00m \u001b[39mrequest\u001b[39m(\n\u001b[1;32m    851\u001b[0m     \u001b[39mself\u001b[39m,\n\u001b[1;32m    852\u001b[0m     cast_to: Type[ResponseT],\n\u001b[0;32m   (...)\u001b[0m\n\u001b[1;32m    857\u001b[0m     stream_cls: \u001b[39mtype\u001b[39m[_StreamT] \u001b[39m|\u001b[39m \u001b[39mNone\u001b[39;00m \u001b[39m=\u001b[39m \u001b[39mNone\u001b[39;00m,\n\u001b[1;32m    858\u001b[0m ) \u001b[39m-\u001b[39m\u001b[39m>\u001b[39m ResponseT \u001b[39m|\u001b[39m _StreamT:\n\u001b[0;32m--> 859\u001b[0m     \u001b[39mreturn\u001b[39;00m \u001b[39mself\u001b[39;49m\u001b[39m.\u001b[39;49m_request(\n\u001b[1;32m    860\u001b[0m         cast_to\u001b[39m=\u001b[39;49mcast_to,\n\u001b[1;32m    861\u001b[0m         options\u001b[39m=\u001b[39;49moptions,\n\u001b[1;32m    862\u001b[0m         stream\u001b[39m=\u001b[39;49mstream,\n\u001b[1;32m    863\u001b[0m         stream_cls\u001b[39m=\u001b[39;49mstream_cls,\n\u001b[1;32m    864\u001b[0m         remaining_retries\u001b[39m=\u001b[39;49mremaining_retries,\n\u001b[1;32m    865\u001b[0m     )\n",
      "File \u001b[0;32m/Library/Frameworks/Python.framework/Versions/3.9/lib/python3.9/site-packages/openai/_base_client.py:911\u001b[0m, in \u001b[0;36mSyncAPIClient._request\u001b[0;34m(self, cast_to, options, remaining_retries, stream, stream_cls)\u001b[0m\n\u001b[1;32m    908\u001b[0m log\u001b[39m.\u001b[39mdebug(\u001b[39m\"\u001b[39m\u001b[39mEncountered Exception\u001b[39m\u001b[39m\"\u001b[39m, exc_info\u001b[39m=\u001b[39m\u001b[39mTrue\u001b[39;00m)\n\u001b[1;32m    910\u001b[0m \u001b[39mif\u001b[39;00m retries \u001b[39m>\u001b[39m \u001b[39m0\u001b[39m:\n\u001b[0;32m--> 911\u001b[0m     \u001b[39mreturn\u001b[39;00m \u001b[39mself\u001b[39;49m\u001b[39m.\u001b[39;49m_retry_request(\n\u001b[1;32m    912\u001b[0m         options,\n\u001b[1;32m    913\u001b[0m         cast_to,\n\u001b[1;32m    914\u001b[0m         retries,\n\u001b[1;32m    915\u001b[0m         stream\u001b[39m=\u001b[39;49mstream,\n\u001b[1;32m    916\u001b[0m         stream_cls\u001b[39m=\u001b[39;49mstream_cls,\n\u001b[1;32m    917\u001b[0m         response_headers\u001b[39m=\u001b[39;49m\u001b[39mNone\u001b[39;49;00m,\n\u001b[1;32m    918\u001b[0m     )\n\u001b[1;32m    920\u001b[0m log\u001b[39m.\u001b[39mdebug(\u001b[39m\"\u001b[39m\u001b[39mRaising connection error\u001b[39m\u001b[39m\"\u001b[39m)\n\u001b[1;32m    921\u001b[0m \u001b[39mraise\u001b[39;00m APIConnectionError(request\u001b[39m=\u001b[39mrequest) \u001b[39mfrom\u001b[39;00m \u001b[39merr\u001b[39;00m\n",
      "File \u001b[0;32m/Library/Frameworks/Python.framework/Versions/3.9/lib/python3.9/site-packages/openai/_base_client.py:982\u001b[0m, in \u001b[0;36mSyncAPIClient._retry_request\u001b[0;34m(self, options, cast_to, remaining_retries, response_headers, stream, stream_cls)\u001b[0m\n\u001b[1;32m    978\u001b[0m \u001b[39m# In a synchronous context we are blocking the entire thread. Up to the library user to run the client in a\u001b[39;00m\n\u001b[1;32m    979\u001b[0m \u001b[39m# different thread if necessary.\u001b[39;00m\n\u001b[1;32m    980\u001b[0m time\u001b[39m.\u001b[39msleep(timeout)\n\u001b[0;32m--> 982\u001b[0m \u001b[39mreturn\u001b[39;00m \u001b[39mself\u001b[39;49m\u001b[39m.\u001b[39;49m_request(\n\u001b[1;32m    983\u001b[0m     options\u001b[39m=\u001b[39;49moptions,\n\u001b[1;32m    984\u001b[0m     cast_to\u001b[39m=\u001b[39;49mcast_to,\n\u001b[1;32m    985\u001b[0m     remaining_retries\u001b[39m=\u001b[39;49mremaining,\n\u001b[1;32m    986\u001b[0m     stream\u001b[39m=\u001b[39;49mstream,\n\u001b[1;32m    987\u001b[0m     stream_cls\u001b[39m=\u001b[39;49mstream_cls,\n\u001b[1;32m    988\u001b[0m )\n",
      "File \u001b[0;32m/Library/Frameworks/Python.framework/Versions/3.9/lib/python3.9/site-packages/openai/_base_client.py:911\u001b[0m, in \u001b[0;36mSyncAPIClient._request\u001b[0;34m(self, cast_to, options, remaining_retries, stream, stream_cls)\u001b[0m\n\u001b[1;32m    908\u001b[0m log\u001b[39m.\u001b[39mdebug(\u001b[39m\"\u001b[39m\u001b[39mEncountered Exception\u001b[39m\u001b[39m\"\u001b[39m, exc_info\u001b[39m=\u001b[39m\u001b[39mTrue\u001b[39;00m)\n\u001b[1;32m    910\u001b[0m \u001b[39mif\u001b[39;00m retries \u001b[39m>\u001b[39m \u001b[39m0\u001b[39m:\n\u001b[0;32m--> 911\u001b[0m     \u001b[39mreturn\u001b[39;00m \u001b[39mself\u001b[39;49m\u001b[39m.\u001b[39;49m_retry_request(\n\u001b[1;32m    912\u001b[0m         options,\n\u001b[1;32m    913\u001b[0m         cast_to,\n\u001b[1;32m    914\u001b[0m         retries,\n\u001b[1;32m    915\u001b[0m         stream\u001b[39m=\u001b[39;49mstream,\n\u001b[1;32m    916\u001b[0m         stream_cls\u001b[39m=\u001b[39;49mstream_cls,\n\u001b[1;32m    917\u001b[0m         response_headers\u001b[39m=\u001b[39;49m\u001b[39mNone\u001b[39;49;00m,\n\u001b[1;32m    918\u001b[0m     )\n\u001b[1;32m    920\u001b[0m log\u001b[39m.\u001b[39mdebug(\u001b[39m\"\u001b[39m\u001b[39mRaising connection error\u001b[39m\u001b[39m\"\u001b[39m)\n\u001b[1;32m    921\u001b[0m \u001b[39mraise\u001b[39;00m APIConnectionError(request\u001b[39m=\u001b[39mrequest) \u001b[39mfrom\u001b[39;00m \u001b[39merr\u001b[39;00m\n",
      "File \u001b[0;32m/Library/Frameworks/Python.framework/Versions/3.9/lib/python3.9/site-packages/openai/_base_client.py:982\u001b[0m, in \u001b[0;36mSyncAPIClient._retry_request\u001b[0;34m(self, options, cast_to, remaining_retries, response_headers, stream, stream_cls)\u001b[0m\n\u001b[1;32m    978\u001b[0m \u001b[39m# In a synchronous context we are blocking the entire thread. Up to the library user to run the client in a\u001b[39;00m\n\u001b[1;32m    979\u001b[0m \u001b[39m# different thread if necessary.\u001b[39;00m\n\u001b[1;32m    980\u001b[0m time\u001b[39m.\u001b[39msleep(timeout)\n\u001b[0;32m--> 982\u001b[0m \u001b[39mreturn\u001b[39;00m \u001b[39mself\u001b[39;49m\u001b[39m.\u001b[39;49m_request(\n\u001b[1;32m    983\u001b[0m     options\u001b[39m=\u001b[39;49moptions,\n\u001b[1;32m    984\u001b[0m     cast_to\u001b[39m=\u001b[39;49mcast_to,\n\u001b[1;32m    985\u001b[0m     remaining_retries\u001b[39m=\u001b[39;49mremaining,\n\u001b[1;32m    986\u001b[0m     stream\u001b[39m=\u001b[39;49mstream,\n\u001b[1;32m    987\u001b[0m     stream_cls\u001b[39m=\u001b[39;49mstream_cls,\n\u001b[1;32m    988\u001b[0m )\n",
      "File \u001b[0;32m/Library/Frameworks/Python.framework/Versions/3.9/lib/python3.9/site-packages/openai/_base_client.py:921\u001b[0m, in \u001b[0;36mSyncAPIClient._request\u001b[0;34m(self, cast_to, options, remaining_retries, stream, stream_cls)\u001b[0m\n\u001b[1;32m    911\u001b[0m         \u001b[39mreturn\u001b[39;00m \u001b[39mself\u001b[39m\u001b[39m.\u001b[39m_retry_request(\n\u001b[1;32m    912\u001b[0m             options,\n\u001b[1;32m    913\u001b[0m             cast_to,\n\u001b[0;32m   (...)\u001b[0m\n\u001b[1;32m    917\u001b[0m             response_headers\u001b[39m=\u001b[39m\u001b[39mNone\u001b[39;00m,\n\u001b[1;32m    918\u001b[0m         )\n\u001b[1;32m    920\u001b[0m     log\u001b[39m.\u001b[39mdebug(\u001b[39m\"\u001b[39m\u001b[39mRaising connection error\u001b[39m\u001b[39m\"\u001b[39m)\n\u001b[0;32m--> 921\u001b[0m     \u001b[39mraise\u001b[39;00m APIConnectionError(request\u001b[39m=\u001b[39mrequest) \u001b[39mfrom\u001b[39;00m \u001b[39merr\u001b[39;00m\n\u001b[1;32m    923\u001b[0m log\u001b[39m.\u001b[39mdebug(\n\u001b[1;32m    924\u001b[0m     \u001b[39m'\u001b[39m\u001b[39mHTTP Request: \u001b[39m\u001b[39m%s\u001b[39;00m\u001b[39m \u001b[39m\u001b[39m%s\u001b[39;00m\u001b[39m \u001b[39m\u001b[39m\"\u001b[39m\u001b[39m%i\u001b[39;00m\u001b[39m \u001b[39m\u001b[39m%s\u001b[39;00m\u001b[39m\"\u001b[39m\u001b[39m'\u001b[39m, request\u001b[39m.\u001b[39mmethod, request\u001b[39m.\u001b[39murl, response\u001b[39m.\u001b[39mstatus_code, response\u001b[39m.\u001b[39mreason_phrase\n\u001b[1;32m    925\u001b[0m )\n\u001b[1;32m    927\u001b[0m \u001b[39mtry\u001b[39;00m:\n",
      "\u001b[0;31mAPIConnectionError\u001b[0m: Connection error."
     ]
    }
   ],
   "source": [
    "#   OpenAI\n",
    "\n",
    "# OLD\n",
    "# get API key\n",
    "# load_dotenv()\n",
    "# openai_key = os.getenv(\"OPENAI_API_KEY\")\n",
    "\n",
    "# #   create the LLM\n",
    "# openai_client = openai.OpenAI(api_key=openai_key) #os.environ['OPENAI_API_KEY'])\n",
    "# llm = OpenAI(openai_client)\n",
    "\n",
    "# #   load in KeyLLM\n",
    "# keyword_extractor = KeyLLM(llm)\n",
    "\n",
    "# keywords = keyword_extractor.extract_keywords(text_input)\n",
    "# print(keywords)\n",
    "\n",
    "openai.api_key = os.environ['OPENAI_API_KEY']\n",
    "\n",
    "openai.base_url = 'https://...'\n",
    "openai.default_headers = {'x-foo': 'true'}\n",
    "\n",
    "extraction = openai.chat.completions.create(\n",
    "    model='gpt-4',\n",
    "    messages=[\n",
    "        {\n",
    "            'role':'user',\n",
    "            'content': 'please extract the keywords from this text:' + text_input\n",
    "        },\n",
    "    ],\n",
    ")\n",
    "print(extraction.choices[0].message.content)\n"
   ]
  },
  {
   "cell_type": "code",
   "execution_count": null,
   "metadata": {},
   "outputs": [
    {
     "name": "stdout",
     "output_type": "stream",
     "text": [
      "                        term     score\n",
      "0                   business  0.004292\n",
      "1                    Alibaba  0.004541\n",
      "2                       data  0.005218\n",
      "3             smart business  0.007722\n",
      "4   Alibaba Pictures Alibaba  0.012739\n",
      "5      Alibaba Music Alibaba  0.012739\n",
      "6              Alibaba Group  0.014378\n",
      "7                     Taobao  0.016120\n",
      "8              Ant Financial  0.016917\n",
      "9                        Ant  0.017061\n",
      "10                    online  0.021319\n",
      "11                 companies  0.021344\n",
      "12        business decisions  0.024621\n",
      "13                  Software  0.024761\n",
      "14                  platform  0.025163\n",
      "15                algorithms  0.025527\n",
      "16                     smart  0.025933\n",
      "17                     China  0.027163\n",
      "18                 live data  0.031105\n",
      "19                  customer  0.031434\n"
     ]
    }
   ],
   "source": [
    "#   YAKE\n",
    "keywords = yake_extractor.extract_keywords(text_input)\n",
    "\n",
    "keywords_df = pd.DataFrame(keywords, columns=['term', 'score'])\n",
    "keywords_df = keywords_df.sort_values(by='score')\n",
    "print(keywords_df) # The lower the score the more relevant the keyword is"
   ]
  },
  {
   "cell_type": "code",
   "execution_count": null,
   "metadata": {},
   "outputs": [
    {
     "name": "stdout",
     "output_type": "stream",
     "text": [
      "Rake-NLTK:\n",
      " \n",
      "['glance chinese retail marketplaces taobao marketplace tmall rural taobao cross', 'global marketplaces aliexpress tmall global lazada wholesale commerce 1688', 'business functions moved online — including established ones', 'alibaba pictures alibaba music alibaba sports uc', 'recalibrated algorithms produce increasingly accurate predictions', 'boasting 10 million unique visits daily', '“ datafy ” every customer exchange', 'generate “ smart ” business decisions', 'instant message tool called wangwang', '550 million annual active consumers', 'several rival chinese companies put', '87 billion rmb ($ 13', 'churn data generated across taobao ’', 'fiscal year ending march 2017', '“ software ” every activity', 'data flowing among multiple players', 'quickly string together experimental products', 'platform would hire temp workers', 'business decisions require complex coordination', 'common business goal — retailing', 'simply return static responses', 'platforms — return policies', 'reports financial results separately', 'even subconscious neurological activity', 'cannot describe concrete steps', 'poor credit pays back', 'excellent credit catastrophically defaults', 'less mathematically precise information', 'handle routine queries via', 'sophisticated online shop fronts', 'may look technologically intimidating', 'help field customer queries', 'integrating various new technologies', 'first major software tools built', 'profitable sme lending business', 'traditional software makes processes', 'around barely 20 years', 'also alert regular users', 'algorithm clearly needs tweaking', 'alibaba group went public', 'minimum loan amount —', 'mechanical service providers familiar', 'rules governing data sharing', 'various social media platforms', 'ant pays alibaba royalties', 'rental process greatly improves', 'bike traditionally involved going', 'requires many new skills', 'platforms gave us authorization', 'nearly three million smes', 'fix customer issues automatically', 'top human sales associate', 'taobao began developing apis', 'alibaba group reported profits', 'allow different software systems', 'indeed every action taken', 'smart bike locks ),', 'helped create new types', 'digital companies must mobilize', 'gaining tremendous competitive advantage', '“ trained ”', 'completely reinventing china ’', 'line physical elements ).', 'cainiao network cloud computing', 'alibaba experienced great growth', 'firm must create models', 'humans currently make decisions', 'process using software —', 'global top 10', '“ talk ”', 'digital evangelists must understand', 'online business would need', 'highly valued companies today', 'would “ foster', 'many fewer visits', 'traditional retail shop', 'lending institutions need answer', 'create ant financial services', 'commerce trends began', 'common questions customers ask', '6 million rmb', 'produce better decisions', 'several hundred rmb', 'took tremendous effort', 'ride sharing —', '5 million consumers', 'ant reported profits', 'journey really began', '1 million —', 'retail sector along', 'probabilistic prediction models', 'many small businesses using', 'many interconnected players', 'customer relations —', '1 million rmb', 'highly successful business', 'technical infrastructure right', 'right incentive structures', 'reading hbr articles', 'optimized supply chains', 'old industrial economy', 'impossible without advances', 'gross profit margins', 'even adequate documentation', 'ensuring strict control', 'drab seaside hotel', 'desired item supplied', 'cents per hour', 'apparel brand senma', 'ample computing power', '26 times higher', 'many human decisions', 'independent software suppliers', 'smart businesses use data', 'three basic questions', 'domestic retailing website', 'product life cycles', 'product andrei hagiu', 'business models similar', 'lending operation together', 'social media influencers', 'processing huge volumes', 'leveraged mobile telephony', 'market cap among', 'underlying product logic', 'successful payments business', 'particular business setting', 'business — quite', 'search engine powered', 'powerful recommendation engine', 'enable drastically decrease', 'costs steadily decrease', 'core feedback loop', 'automatically making adjustments', 'algorithmic engine goes', '100 software modules', 'ant microloans provides', 'get data flowing', 'new online product', 'call smart business', 'smart business emerges', '1 %, far', 'major investee companies', 'companies dispatch trucks', 'data generated inside', 'match customer queries', 'data flows across', 'include ant financial', 'prediction models become', 'human decision making', 'driven typically collect', 'artificial intelligence technologies', 'computing large quantities', 'new business logic', 'human customer representatives', 'configured using software', 'efficiently leverage data', 'edit data throughout', 'data points provide', 'huge creative undertaking', 'existing mobile payment', 'market power emerged', 'changing market conditions', 'help sellers design', 'online commerce company', 'get smart faster', 'firm must enable', 'recognition search algorithms', 'alibaba also developed', 'scale computational power', 'real difficulties securing', 'isolate traits common', 'charge requires analysis', 'application programming interfaces', 'analytic capabilities accessible', 'many operating decisions', 'entire rental process', 'customer relationship activities', 'important new competencies', 'biggest sales day', 'worked reasonably well', 'commerce ecosystem .”', 'driven microloan business', 'reserve one nearby', 'high credit ratings', 'consumer credit ratings', 'inventory management systems', 'dominant business logic', 'build erp software', '10 business leaders', 'companies ’ goals', 'transaction data generated', 'data scientists come', 'run loyalty programs', 'compare good borrowers', 'ant financial ’', 'typical loan given', 'started using one', 'essential actors online', 'bike rental business', 'transforming decision making', 'see available bicycles', 'smart business model', 'electronic bike lock', 'global sales', 'one another online', 'critical data points', 'transaction systems need', 'sellers could meet', 'increase systemwide efficiency', 'functions associated', 'world bank ’', 'alibaba launched ant', 'easily process loans', 'commerce platforms', 'average loan size', 'platform businesses finding', 'time data flow', 'assess relationship quality', 'handle consumer inquiries', 'calculate credit scores', 'live data services', 'sellers greet buyers', 'job well done', 'live data rather', 'data capture process', 'business activity', 'top line', 'players involved', 'lending institutions', 'increasingly replaced', 'existing ones', 'currently valued', 'generated automatically', 'commerce website', 'become china ’', 'new software', 'retailing process', 'thus machine learning', 'learning algorithms take', 'activities —', 'information generated', 'firm decisions', 'chatbots rapidly improve', 'smes ).', 'huge amount', 'digital media', 'cloud computing', 'business decisions', 'merchants ’ cost', 'software tools', 'many types', 'many types', 'lending business', 'instant messaging', 'experienced representatives', 'emerging ones', 'electronic locks', 'bad ones', 'every transaction', 'taobao ’', 'taobao ’', 'taobao ’', 'taobao ’', '814 million', '332 million', 'credit systems', 'smart business', 'smart business', 'smart business', 'smart business', 'smart business', 'smart business', 'smart business', 'companies put', 'several seconds', 'human action', 'alibaba group', 'alibaba group', 'taobao subscribe', 'every connection', 'every communication', 'ant financial', 'ant financial', 'done automatically', 'decision making', 'run online', 'service providers', '000 rmb', 'alibaba cloud', 'commerce platform', 'enable workers', 'china —', 'customer questions', 'operational decisions', 'operating decisions', 'major businesses', 'decisions affecting', 'dominant logic', 'way across', 'software products', 'taobao merchants', 'user responses', 'simpler elements', 'put workflows', 'physical surroundings', 'personal issues', 'must define', 'methods common', 'major markets', 'loyalty programs', 'humans supported', 'even verify', 'decision flows', 'common standard', 'common sense', 'algorithm churns', 'business process', 'group ’', 'traditional companies', 'many businesses', '— amazon', 'order —', 'firm needs', '100 billion', 'activities involved', 'learning technologies', 'learning technologies', 'new venture', 'new capabilities', 'customer service', 'financial services', 'digital data', 'profiling systems', 'product recommenders', 'global', 'online businesses', 'business activities', 'every iteration', 'information available', 'business ’', 'alibaba ’', 'alibaba ’', 'alibaba ’', 'alibaba ’', 'alibaba ’', 'alibaba ’', 'alibaba ’', 'alibaba ’', 'online video', 'online shops', 'born online', 'customer preferences', 'traditional businesses', 'data intelligence', 'data could', 'year ago', 'mobile browser', 'first step', 'conclusion digital', 'also make', '000 ).', 'software today', 'market cap', 'sesame credit', 'credit score', 'credit history', 'credit history', 'credit card', 'ant ’', 'online network', 'firm seeks', 'service companies', 'live data', 'live data', 'live data', 'network coordination', 'business units', 'business relationships', 'business operates', 'business becomes', 'alibaba introduced', 'alibaba hit', 'data scientists', 'data scientists', 'users want', 'size enterprises', 'seven years', 'rental location', 'rental criteria', 'recommendation engines', 'quite natural', 'offer loans', 'lock completes', 'inventory turnover', 'good portion', 'feedback loops', 'enable real', 'creative datafication', 'bikes nearby', 'biggest ipo', 'algorithmic output', 'one another', 'one another', 'online platform', 'digital leaders', 'step process', 'checkout process', 'alibaba network', '9 billion', '500 billion', '40 billion', '15 billion', 'step 1', 'questions inherent', 'drive sales', 'persuade companies', 'native companies', 'antlike companies', 'allows companies', 'available products', 'transaction data', 'management team', 'knowledge management', 'sharing app', 'four steps', 'four steps', 'work requires', 'services available', 'retail', 'borrowers get', 'alibaba today', 'new kind', 'learning algorithms', 'learning algorithms', 'learning algorithms', 'bike rentals', 'business uses', 'look like', 'look like', 'look like', 'merchant ’', 'leader ’', 'individual ’', 'bot ’', 'pioneering data', 'data mining', 'data analysis', 'behavioral data', 'powered chatbot', 'make sure', 'make explicit', 'make changes', 'deep learning', 'driven network', 'market dynamics', 'logistics companies', 'products curated', 'introduce products', 'deliver products', 'traditional industries', 'ant uses', '4 billion', 'engineering algorithms', 'algorithms might', 'algorithms figure', 'operations online', 'zhejiang province', 'youku tudou', 'usually takes', 'user behavior', 'unlike ge', 'united states', 'united states', 'united states', 'technological innovation', 'technological changes', 'surpassed walmart', 'success rate', 'strategic imperative', 'steve jobs', 'step 2', 'specific actions', 'special promotions', 'special innovation', 'someone give', 'solution presented', 'significant contribution', 'september 2014', 'september 2014', 'semantic comprehension', 'qr codes', 'qr code', 'qr code', 'providing ever', 'potential borrowers', 'potential borrowers', 'past decade', 'party developers', 'output gets', 'often becomes', 'offer discounts', 'negotiate prices', 'move bikes', 'merchant occurs', 'local services', 'knowledge graphs', 'joined full', 'issue coupons', 'interest rate', 'interest rate', 'institute standards', 'incremental improvement', 'important job', 'important advantage', 'hupan school', 'highest level', 'high volume', 'healthy helping', 'general electric', 'firms follow', 'find ways', 'enormous demand', 'elon musk', 'elizabeth j', 'economically efficient', 'easily pick', 'easily check', 'dropped dramatically', 'disjointed observations', 'discount offers', 'delivery costs', 'default rate', 'deep understanding', 'customized webpage', 'cultivate creativity', 'crucial innovation', 'conversion rate', 'context dialogues', 'communication standards', 'coming decades', 'collected naturally', 'broadly interoperable', 'blistering pace', 'billions offered', 'big events', 'adapt dynamically', 'world ’', 'world ’', 'leaders ’', 'way business', 'learning technology', 'network members', 'well versed', 'well positioned', 'large sellers', 'model works', 'enabled model', 'causal model', 'analyze information', 'customers log', 'seller ’', 'seller ’', 'platform provided', 'platform grew', 'machine learning', 'machine learning', 'machine learning', 'machine learning', 'technology advanced', 'mybank logistics', 'microlending operation', 'linked buyers', 'innovation rather', 'internet companies', 'large banks', 'person ’', 'time applications', 'step 4', 'real time', 'real time', 'real time', 'real time', 'real time', 'dominant e', 'chatbot handled', 'logistics network', 'seller deemed', 'made large', 'large part', 'truly building', 'step 3', 'skip paying', 'sell goods', 'positive response', 'ongoing challenge', 'machines fueled', 'longer manage', 'includes alipay', 'household name', 'hence supported', 'founder jack', 'early stages', 'datafy', 'continuous softwaring', 'consumer experience', 'cleverly automated', 'boasting', 'become smarter', 'always easy', 'affiliate marketing', '2016 estimate', 'ecosystem creates', 'use machine', 'simple browsing', 'rider arrives', 'rapid development', 'prosperous e', 'much interest', 'money necessary', 'larger view', 'innovations accumulate', 'cooperative partners', 'taobao', 'taobao', 'taobao', 'taobao', 'would', 'things technology', '10', 'striking example', 'site needed', 'amounts needed', 'tool', 'must', 'goal', 'consumers', 'apply machine', 'software', 'software', 'loan', 'online', 'online', 'customer', 'customer', 'customer', 'year', 'workers', 'tools', 'social', 'much value', 'handle', 'first', 'coordination', 'business', 'business', 'business', 'business', 'business', 'business', 'business', 'business', 'alibaba', 'alibaba', 'alibaba', 'alibaba', 'alibaba', 'alibaba', 'alibaba', 'alibaba', 'us', 'understand', 'rental', 'nearly', 'indeed', 'gave', 'evangelists', 'different', 'create', 'create', 'create', 'competitive', 'ask', 'around', 'also', 'process', 'process', 'ant', 'ant', 'ant', 'sales', 'questions', '1', 'companies', 'companies', 'companies', 'require', 'require', 'quickly', 'quickly', 'needs', 'built', 'built', 'action', '2017', '2017', 'using', 'using', 'using', 'using', 'get', 'driven', 'bike', 'bike', 'bike', 'bike', 'transaction', 'service', 'look', '’', '’', '’', '’', 'data', 'data', 'data', 'data', 'data', 'data', 'data', 'data', 'data', 'data', 'data', 'data', 'data', 'data', 'data', 'data', 'make', 'one', 'one', 'need', 'need', 'need', 'need', 'market', 'market', 'products', 'products', 'businesses', 'businesses', 'businesses', 'businesses', 'algorithms', 'algorithms', 'algorithms', 'algorithms', 'algorithms', 'transforming', 'traits', 'thus', 'talk', 'small', 'small', 'services', 'services', 'services', 'see', 'scores', 'scale', 'real', 'rapidly', 'operating', 'match', 'launched', 'job', 'inquiries', 'increase', 'improve', 'important', 'high', 'growth', 'growth', 'efficiency', 'easily', 'critical', 'consumer', 'consumer', 'company', 'capabilities', 'calculate', 'borrowers', 'better', 'become', 'become', 'assess', 'application', 'answer', 'answer', 'analysis', 'along', 'advantage', 'advantage', 'network', 'network', 'network', 'well', 'well', 'well', 'model', 'model', 'world', 'world', 'use', 'use', 'use', 'leaders', 'leaders', 'customers', 'customers', 'customers', 'platform', 'platform', 'platform', 'platform', 'platform', 'platform', 'platform', 'technology', 'rather', 'rather', 'operation', 'operation', 'merchants', 'merchants', 'logistics', 'buyers', 'buyers', 'apis', 'apis', 'apis', 'today', 'today', 'today', 'today', 'uses', 'time', 'time', 'time', 'time', 'time', 'quality', 'quality', 'needed', 'given', 'given', 'four', 'essential', 'essential', 'cost', 'cost', 'china', 'china', 'china', 'china', 'china', 'china', 'chatbots', 'chatbots', 'chatbot', 'capture', 'capture', 'build', 'build', 'average', 'average', '4', 'sellers', 'sellers', 'sellers', 'sellers', 'sellers', 'sellers', 'sellers', 'machine', 'machine', 'machine', 'machine', 'machine', 'machine', 'seller', 'seller', 'want', 'things', 'take', 'take', 'take', 'softwaring', 'smarter', 'site', 'seven', 'response', 'person', 'paying', 'order', 'name', 'marketing', 'manage', 'machines', 'jack', 'iteration', 'industries', 'hence', 'goods', 'experience', 'early', 'delivery', 'challenge', 'building', 'banks', 'automated', 'amounts', 'amazon', 'always', 'alipay', '3', '2016', 'ecosystem', 'ecosystem', 'ecosystem', 'ecosystem', 'ecosystem', 'way', 'way', 'way', 'value', 'value', 'simple', 'simple', 'rider', 'rider', 'partners', 'partners', 'part', 'part', 'operations', 'operations', 'much', 'much', 'much', 'much', 'money', 'money', 'made', 'made', 'larger', 'larger', 'kind', 'kind', 'internet', 'internet', 'innovations', 'innovations', 'e', 'e', 'e', 'e', 'development', 'development', 'apply', 'apply', 'app', 'app', 'analyze', 'analyze', 'work', 'work', 'work', 'example', 'example', 'example', 'example', 'worldwide', 'words', 'winners', 'wholesalers', 'whether', 'weight', 'visit', 'visionaries', 'vision', 'vision', 'virtually', 'vastly', 'variety', 'variety', 'useful', 'used', 'used', 'ups', 'upgrade', 'unknowable', 'type', 'trying', 'transformation', 'transform', 'toyota', 'toyota', 'third', 'thanks', 'testing', 'test', 'tens', 'tencent', 'tech', 'tcp', 'tailor', 'support', 'succeed', 'students', 'strategy', 'strategy', 'straitjacket', 'storing', 'still', 'still', 'steward', 'start', 'sprawling', 'specify', 'societal', 'slide', 'show', 'share', 'set', 'set', 'selection', 'selection', 'seek', 'seek', 'security', 'scan', 'scalable', 'running', 'role', 'risk', 'rigid', 'revenue', 'revenue', 'returning', 'returned', 'result', 'responding', 'resources', 'resources', 'represents', 'replicate', 'repertoire', 'repay', 'renting', 'removed', 'reluctant', 'relevant', 'reason', 'realized', 'realized', 'realize', 'realize', 'ready', 'reactivity', 'proven', 'proved', 'prompt', 'programmed', 'previously', 'possible', 'possible', 'possible', 'popular', 'pool', 'plenty', 'photo', 'people', 'people', 'paypal', 'parameters', 'outspoken', 'organisms', 'optimize', 'optimize', 'optical', 'opposite', 'opening', 'open', 'open', 'offerings', 'numbers', 'numbers', 'ningbo', 'navigation', 'minutes', 'mine', 'millions', 'millions', 'millions', 'milestone', 'met', 'meets', 'meeting', 'medium', 'mechanics', 'means', 'mean', 'mass', 'marketers', 'mapping', 'manufacturers', 'manufacturers', 'mandate', 'mail', 'loads', 'little', 'let', 'lent', 'length', 'lend', 'lend', 'lend', 'leaving', 'leadership', 'launch', 'lacked', 'koubei', 'know', 'kinds', 'iterations', 'isolates', 'ip', 'intuitive', 'interpreted', 'interpret', 'interacting', 'instead', 'instead', 'inspire', 'insights', 'innovate', 'innovate', 'ingredient', 'industrious', 'inception', 'improving', 'identifying', 'identify', 'identify', 'ideas', 'ideas', 'idea', 'however', 'headlines', 'grown', 'grow', 'groups', 'google', 'google', 'getting', 'getting', 'garnish', 'future', 'future', 'future', 'future', 'functioning', 'function', 'fuel', 'frequency', 'foundation', 'found', 'forum', 'fortunate', 'form', 'fluid', 'five', 'finance', 'finance', 'figuring', 'feed', 'fedex', 'feasible', 'fashion', 'fallen', 'facilitate', 'faced', 'facebook', 'expertise', 'experimenting', 'expediting', 'expanded', 'expanded', 'execution', 'execute', 'exchanges', 'evolving', 'evolve', 'evolution', 'especially', 'equivalent', 'environments', 'environment', 'environment', 'environment', 'entrepreneurship', 'entertainment', 'enrich', 'engineers', 'engage', 'end', 'empowering', 'employees', 'elicit', 'ele', 'ecosystems', 'ecosystems', 'economists', 'economic', 'ebay', 'dollars', 'direction', 'digitize', 'diagnose', 'determining', 'designed', 'deposit', 'deposit', 'depend', 'deluge', 'degree', 'deal', 'days', 'datafying', 'creating', 'creating', 'creating', 'course', 'course', 'course', 'course', 'course', 'countries', 'coordinated', 'coordinated', 'coordinated', 'coordinate', 'coordinate', 'contrast', 'constitutes', 'consider', 'consider', 'consequence', 'confirm', 'conducted', 'conduct', 'complicated', 'competition', 'community', 'communications', 'communications', 'commercialization', 'combination', 'com', 'com', 'coalesce', 'closing', 'clear', 'clear', 'citigroup', 'citigroup', 'challenging', 'ceo', 'centric', 'central', 'categories', 'cash', 'capable', 'buyer', 'buy', 'burden', 'bundled', 'border', 'bicycle', 'bicycle', 'believe', 'beginning', 'becoming', 'beater', 'basis', 'basis', 'basis', 'basis', 'availability', 'autonavi', 'automate', 'assumptions', 'assuming', 'assimilate', 'area', 'approach', 'anyone', 'anymore', 'answers', 'amounted', 'allowing', 'ai', 'agreed', 'affordable', 'afford', 'affects', 'advertising', 'additionally', 'added', 'achieving', 'achieve', 'account', 'accommodate', 'access', 'access', 'access', 'access', 'acceptable', 'ability', 'ability', '95', '8', '8', '50', '2012', '2012', '2010', '2009', '2009', '2007', '200', '1999', '160', '...']\n"
     ]
    }
   ],
   "source": [
    "#   Rake-NLTK\n",
    "rake_nltk_extractor.extract_keywords_from_text(text_input)\n",
    "keywords_extracted = rake_nltk_extractor.get_ranked_phrases()\n",
    "print(\"Rake-NLTK:\\n \")\n",
    "print(keywords_extracted)"
   ]
  },
  {
   "cell_type": "code",
   "execution_count": null,
   "metadata": {},
   "outputs": [
    {
     "name": "stdout",
     "output_type": "stream",
     "text": [
      "Gensim:\n",
      " \n",
      "businesses\n",
      "business\n",
      "alibaba\n",
      "customer\n",
      "customers\n",
      "customized\n",
      "data network\n",
      "online\n",
      "company\n",
      "companies\n",
      "software\n",
      "softwaring\n",
      "credit\n",
      "product\n",
      "products\n",
      "ant\n",
      "processing\n",
      "marketers service\n",
      "market\n",
      "marketing\n",
      "technology\n",
      "technological\n",
      "technologies\n",
      "technologically\n",
      "digital\n",
      "digitize\n",
      "algorithm\n",
      "algorithms\n",
      "need\n",
      "needed\n",
      "needs\n",
      "makes processes\n",
      "easily process\n",
      "platform\n",
      "platforms\n",
      "financial services\n",
      "retail\n",
      "retailing\n",
      "major markets\n",
      "step\n",
      "steps\n",
      "today\n",
      "bikes\n",
      "models\n",
      "model\n",
      "loan\n",
      "taobao\n",
      "helped create new\n",
      "algorithmic engine\n",
      "operational decisions\n",
      "bike rental\n",
      "sellers\n",
      "seller\n",
      "commerce\n",
      "common\n",
      "human decision making\n",
      "consumers\n",
      "consumer\n",
      "sales\n",
      "provided\n",
      "providers\n",
      "provides\n",
      "provide\n",
      "providing\n",
      "year\n",
      "years\n",
      "rentals\n",
      "returning\n",
      "returned\n",
      "return\n",
      "humans\n",
      "generated\n",
      "generate\n",
      "general\n",
      "management\n",
      "manage\n",
      "questions\n",
      "offer loans\n",
      "goods\n",
      "good\n",
      "millions\n",
      "million\n",
      "systems\n",
      "activities\n",
      "activity\n",
      "active\n",
      "engineering\n",
      "engineers\n",
      "engines\n",
      "enable\n",
      "creative\n",
      "creativity\n",
      "mobile\n",
      "mobilize\n",
      "learning\n",
      "machine\n",
      "machines\n",
      "tremendous\n",
      "traditional\n",
      "operations\n",
      "operation\n",
      "operating\n",
      "operates\n",
      "creating\n",
      "creates\n",
      "global\n",
      "innovation\n",
      "innovations\n",
      "innovate\n",
      "time\n",
      "times\n",
      "development\n",
      "developed\n",
      "developers\n",
      "developing\n",
      "power\n",
      "powerful\n",
      "powered\n",
      "logistics\n",
      "computing\n",
      "computational\n",
      "coordinated\n",
      "coordinate\n",
      "coordination\n",
      "requires\n",
      "require\n",
      "functions\n",
      "function\n",
      "rate\n",
      "ratings\n",
      "large\n",
      "smes\n",
      "user\n",
      "users\n",
      "relationships\n",
      "relationship\n",
      "visit\n",
      "visits\n",
      "sme lending\n",
      "tools\n",
      "tool\n",
      "lend\n",
      "industries\n",
      "industrious\n",
      "industrial\n",
      "use\n",
      "uses\n",
      "useful\n",
      "merchants\n",
      "merchant\n",
      "includes\n",
      "include\n",
      "real\n",
      "profitable\n",
      "profit\n",
      "sharing\n",
      "share\n",
      "responses\n",
      "response\n",
      "firms\n",
      "firm\n",
      "players involved\n",
      "example\n",
      "improving\n",
      "improves\n",
      "improve\n",
      "improvement\n",
      "feedback\n",
      "zhejiang\n",
      "simple\n",
      "seaside\n",
      "hbr\n",
      "partners\n",
      "strict\n",
      "marketplaces\n",
      "marketplace\n",
      "information\n",
      "media\n",
      "ones\n",
      "issue\n",
      "issues\n",
      "chinese\n",
      "supplied\n",
      "supply\n",
      "available\n",
      "availability\n",
      "reported profits\n",
      "helping\n",
      "help\n",
      "offerings\n",
      "offers\n",
      "prediction\n",
      "predictions\n",
      "billions offered\n",
      "billion\n",
      "world\n",
      "actions\n",
      "action\n",
      "efficient\n",
      "efficiently\n",
      "efficiency\n",
      "physical\n",
      "smart\n",
      "capabilities\n",
      "capable\n",
      "running\n",
      "run\n",
      "pays\n",
      "paying\n",
      "chatbot\n",
      "chatbots\n",
      "reports\n",
      "shop\n",
      "shops\n",
      "borrowers\n",
      "began\n",
      "successful\n",
      "success\n",
      "google\n"
     ]
    }
   ],
   "source": [
    "#   Gensim\n",
    "print(\"Gensim:\\n \")\n",
    "gensim_kw = gensim.summarization.keywords(text_input)\n",
    "print(gensim_kw)"
   ]
  },
  {
   "cell_type": "markdown",
   "metadata": {},
   "source": [
    "### Creating lists \n",
    "\n",
    "Let's move forward with Yake as there are relativity scores that we can base keyword extraction on"
   ]
  },
  {
   "cell_type": "code",
   "execution_count": null,
   "metadata": {},
   "outputs": [],
   "source": []
  }
 ],
 "metadata": {
  "kernelspec": {
   "display_name": "Python 3.9.2 64-bit",
   "language": "python",
   "name": "python3"
  },
  "language_info": {
   "codemirror_mode": {
    "name": "ipython",
    "version": 3
   },
   "file_extension": ".py",
   "mimetype": "text/x-python",
   "name": "python",
   "nbconvert_exporter": "python",
   "pygments_lexer": "ipython3",
   "version": "3.9.2"
  },
  "orig_nbformat": 4,
  "vscode": {
   "interpreter": {
    "hash": "aee8b7b246df8f9039afb4144a1f6fd8d2ca17a180786b69acc140d282b71a49"
   }
  }
 },
 "nbformat": 4,
 "nbformat_minor": 2
}
