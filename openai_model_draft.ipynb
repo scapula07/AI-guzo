{
 "cells": [
  {
   "cell_type": "code",
   "execution_count": 84,
   "metadata": {},
   "outputs": [
    {
     "data": {
      "text/plain": [
       "True"
      ]
     },
     "execution_count": 84,
     "metadata": {},
     "output_type": "execute_result"
    }
   ],
   "source": [
    "#   imports\n",
    "import os\n",
    "from dotenv import load_dotenv\n",
    "from openai import OpenAI\n",
    "\n",
    "load_dotenv()\n"
   ]
  },
  {
   "cell_type": "code",
   "execution_count": 85,
   "metadata": {},
   "outputs": [],
   "source": [
    "#   establish client\n",
    "\n",
    "client = OpenAI(api_key=os.getenv('OPENAI_API_KEY')) # automatically pulls API key from .env file"
   ]
  },
  {
   "cell_type": "code",
   "execution_count": 86,
   "metadata": {},
   "outputs": [],
   "source": [
    "#   request text input from user\n",
    "\n",
    "gpt_user_prompt ='extract keywords from the following request:' + input('What do you need to grow and scale your business?')\n",
    "# gpt_assistant_prompt = 'You are yourself: GPT-3.5'\n",
    "\n",
    "\n",
    "# I need access to climatech and energy transition funding allocators"
   ]
  },
  {
   "cell_type": "code",
   "execution_count": 87,
   "metadata": {},
   "outputs": [],
   "source": [
    "#   setup message to be sent\n",
    "# {'role': \"assistant\", 'content': gpt_assistant_prompt},\n",
    "message = [{'role': 'user', 'content': gpt_user_prompt}]\n",
    "temperature = 0.2\n",
    "max_tokens = 256\n",
    "frequency_penalty = 0\n",
    "\n"
   ]
  },
  {
   "cell_type": "code",
   "execution_count": 88,
   "metadata": {},
   "outputs": [
    {
     "name": "stdout",
     "output_type": "stream",
     "text": [
      "ChatCompletionMessage(content='keywords: access, climatech, energy transition, funding, allocators', role='assistant', function_call=None, tool_calls=None)\n"
     ]
    }
   ],
   "source": [
    "#   send message to GPT-4 print out results\n",
    "response = client.chat.completions.create(\n",
    "    model='gpt-3.5-turbo',\n",
    "    messages= message,\n",
    "    temperature=temperature,\n",
    "    max_tokens=max_tokens,\n",
    "    frequency_penalty=frequency_penalty\n",
    ")\n",
    "\n",
    "print(response.choices[0].message)"
   ]
  }
 ],
 "metadata": {
  "kernelspec": {
   "display_name": "Python 3.9.2 64-bit",
   "language": "python",
   "name": "python3"
  },
  "language_info": {
   "codemirror_mode": {
    "name": "ipython",
    "version": 3
   },
   "file_extension": ".py",
   "mimetype": "text/x-python",
   "name": "python",
   "nbconvert_exporter": "python",
   "pygments_lexer": "ipython3",
   "version": "3.9.2"
  },
  "orig_nbformat": 4,
  "vscode": {
   "interpreter": {
    "hash": "aee8b7b246df8f9039afb4144a1f6fd8d2ca17a180786b69acc140d282b71a49"
   }
  }
 },
 "nbformat": 4,
 "nbformat_minor": 2
}
