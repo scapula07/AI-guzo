{
 "cells": [
  {
   "cell_type": "markdown",
   "metadata": {},
   "source": [
    "# Guzo Chatbox NLP Product\n",
    "\n",
    "This python code will serve as the backend logic to the Chatbox ML/AI product. This backend will be split into 4 major steps:\n",
    "\n",
    "1. Importing text input from chatbox frontend (**Bart to help**)\n",
    "1. Extracting keyword(s) from text input & creating list (*if necessary*)\n",
    "1. Matching keywords to tags for profiles in database (**Need Bart help for API**)\n",
    "1. Exporting results to frontend (**Need Bart help for API**)"
   ]
  },
  {
   "cell_type": "markdown",
   "metadata": {},
   "source": [
    "## Imports"
   ]
  },
  {
   "cell_type": "markdown",
   "metadata": {},
   "source": [
    "### Import NLP Libraries"
   ]
  },
  {
   "cell_type": "code",
   "execution_count": 31,
   "metadata": {},
   "outputs": [],
   "source": [
    "#   Imports\n",
    "import numpy as np\n",
    "import pandas as pd\n",
    "from os import path\n",
    "import sys"
   ]
  },
  {
   "cell_type": "code",
   "execution_count": 32,
   "metadata": {},
   "outputs": [
    {
     "name": "stderr",
     "output_type": "stream",
     "text": [
      "[nltk_data] Error loading STOPWORDS: <urlopen error [SSL:\n",
      "[nltk_data]     CERTIFICATE_VERIFY_FAILED] certificate verify failed:\n",
      "[nltk_data]     unable to get local issuer certificate (_ssl.c:1123)>\n"
     ]
    },
    {
     "data": {
      "text/plain": [
       "False"
      ]
     },
     "execution_count": 32,
     "metadata": {},
     "output_type": "execute_result"
    }
   ],
   "source": [
    "# from wordcloud import WordCloud, STOPWORDS, ImageColorGenerator\n",
    "import nltk\n",
    "nltk.download('STOPWORDS')\n",
    "\n"
   ]
  },
  {
   "cell_type": "code",
   "execution_count": 33,
   "metadata": {},
   "outputs": [],
   "source": [
    "import yake\n",
    "yake_extractor = yake.KeywordExtractor()"
   ]
  },
  {
   "cell_type": "code",
   "execution_count": 34,
   "metadata": {},
   "outputs": [],
   "source": [
    "\n",
    "from rake_nltk import Rake\n",
    "rake_nltk_extractor = Rake()"
   ]
  },
  {
   "cell_type": "code",
   "execution_count": 35,
   "metadata": {},
   "outputs": [],
   "source": [
    "# import spacy\n",
    "# spacy_extractor = spacy.load('en_core_web_sm')\n"
   ]
  },
  {
   "cell_type": "code",
   "execution_count": 36,
   "metadata": {},
   "outputs": [],
   "source": [
    "import gensim\n",
    "from gensim.summarization import keywords #This is a function used to extract keywords"
   ]
  },
  {
   "cell_type": "markdown",
   "metadata": {},
   "source": [
    "## Extracting Keywords & Creating Lists\n",
    "### Importing actual chatbox input TBD"
   ]
  },
  {
   "cell_type": "code",
   "execution_count": 37,
   "metadata": {},
   "outputs": [
    {
     "name": "stdout",
     "output_type": "stream",
     "text": [
      "240 character limit\n",
      "Alibaba hit the headlines with the world’s biggest IPO in September 2014. Today, the company has a market cap among the global top 10, has surpassed Walmart in global sales, and has expanded into all the major markets in the world. Founder Jack Ma has become a household name.  From its inception, in 1999, Alibaba experienced great growth on its e-commerce platform. However, it still didn’t look like a world-beater in 2007 when the management team, which I had joined full-time the year before, met for a strategy off-site at a drab seaside hotel in Ningbo, Zhejiang province. Over the course of the meeting, our disjointed observations and ideas about e-commerce trends began to coalesce into a larger view of the future, and by the end, we had agreed on a vision. We would “foster the development of an open, coordinated, prosperous e-commerce ecosystem.” That’s when Alibaba’s journey really began.  Alibaba’s special innovation, we realized, was that we were truly building an ecosystem: a community of organisms (businesses and consumers of many types) interacting with one another and the environment (the online platform and the larger off-line physical elements). Our strategic imperative was to make sure that the platform provided all the resources, or access to the resources, that an online business would need to succeed, and hence supported the evolution of the ecosystem.  The ecosystem we built was simple at first: We linked buyers and sellers of goods. As technology advanced, more business functions moved online—including established ones, such as advertising, marketing, logistics, and finance, and emerging ones, such as affiliate marketing, product recommenders, and social media influencers. And as we expanded our ecosystem to accommodate these innovations, we helped create new types of online businesses, completely reinventing China’s retail sector along the way.  Alibaba today is not just an online commerce company. It is what you get if you take all functions associated with retail and coordinate them online into a sprawling, data-driven network of sellers, marketers, service providers, logistics companies, and manufacturers. In other words, Alibaba does what Amazon, eBay, PayPal, Google, FedEx, wholesalers, and a good portion of manufacturers do in the United States, with a healthy helping of financial services for garnish.  Of the world’s 10 most highly valued companies today, seven are internet companies with business models similar to ours. Five of them—Amazon, Google, and Facebook in the United States and Alibaba and Tencent in China—have been around barely 20 years. Why has so much value and market power emerged so quickly? Because of new capabilities in network coordination and data intelligence that all these companies put to use. The ecosystems they steward are vastly more economically efficient and customer-centric than traditional industries. These firms follow an approach I call smart business, and I believe it represents the dominant business logic of the future.  What Is Smart Business? Smart business emerges when all players involved in achieving a common business goal—retailing, for example, or ride sharing—are coordinated in an online network and use machine-learning technology to efficiently leverage data in real time. This tech-enabled model, in which most operational decisions are made by machines, allows companies to adapt dynamically and rapidly to changing market conditions and customer preferences, gaining tremendous competitive advantage over traditional businesses.  Ample computing power and digital data are the fuel for machine learning, of course. The more data and the more iterations the algorithmic engine goes through, the better its output gets. Data scientists come up with probabilistic prediction models for specific actions, and then the algorithm churns through loads of data to produce better decisions in real time with every iteration. These prediction models become the basis for most business decisions. Thus machine learning is more than a technological innovation; it will transform the way business is conducted as human decision making is increasingly replaced by algorithmic output.  Ant Microloans provides a striking example of what this future will look like. When Alibaba launched Ant, in 2012, the typical loan given by large banks in China was in the millions of dollars. The minimum loan amount—about 6 million RMB or just under $1 million—was well above the amounts needed by most small and medium-size enterprises (SMEs). Banks were reluctant to service companies that lacked any kind of credit history or even adequate documentation of their business activities. As a consequence, tens of millions of businesses in China were having real difficulties securing the money necessary to grow their operations.  At Alibaba, we realized we had the ingredient for creating a high-functioning, scalable, and profitable SME lending business: the huge amount of transaction data generated by the many small businesses using our platform. So in 2010 we launched a pioneering data-driven microloan business to offer loans to businesses in amounts no larger than 1 million RMB (about $160,000). In seven years of operation, the business has lent more than 87 billion RMB ($13.4 billion) to nearly three million SMEs. The average loan size is 8,000 RMB, or about $1,200. In 2012, we bundled this lending operation together with Alipay, our very successful payments business, to create Ant Financial Services. We gave the new venture that name to capture the idea that we were empowering all the little but industrious, antlike companies.  Today, Ant can easily process loans as small as several hundred RMB (around $50) in a few minutes. How is this possible? When faced with potential borrowers, lending institutions need answer only three basic questions: Should we lend to them, how much should we lend, and at what interest rate? Once sellers on our platforms gave us authorization to analyze their data, we were well positioned to answer those questions. Our algorithms can look at transaction data to assess how well a business is doing, how competitive its offerings are in the market, whether its partners have high credit ratings, and so on.  Ant uses that data to compare good borrowers (those who repay on time) with bad ones (those who do not) to isolate traits common in both groups. Those traits are then used to calculate credit scores. All lending institutions do this in some fashion, of course, but at Ant the analysis is done automatically on all borrowers and on all their behavioral data in real time. Every transaction, every communication between seller and buyer, every connection with other services available at Alibaba, indeed every action taken on our platform, affects a business’s credit score. At the same time, the algorithms that calculate the scores are themselves evolving in real time, improving the quality of decision making with each iteration.  Determining how much to lend and how much interest to charge requires analysis of many types of data generated inside the Alibaba network, such as gross profit margins and inventory turnover, along with less mathematically precise information such as product life cycles and the quality of a seller’s social and business relationships. The algorithms might, for example, analyze the frequency, length, and type of communications (instant messaging, e-mail, or other methods common in China) to assess relationship quality.  Alibaba’s data scientists are essential in identifying and testing which data points provide the insights they seek and then engineering algorithms to mine the data. This work requires both a deep understanding of the business and expertise in machine-learning algorithms. Consider again Ant Financial. If a seller deemed to have poor credit pays back its loan on time or a seller with excellent credit catastrophically defaults, the algorithm clearly needs tweaking. Engineers can quickly and easily check their assumptions. Which parameters should be added or removed? Which kinds of user behavior should be given more weight?  Alibaba’s Major Businesses at a Glance Chinese Retail Marketplaces Taobao Marketplace Tmall Rural Taobao Cross-Border and Global Marketplaces AliExpress Tmall Global Lazada Wholesale Commerce 1688.com (China) Alibaba.com (global) Digital Media and Entertainment* Youku Tudou (online video) Alibaba Pictures Alibaba Music Alibaba Sports UC (mobile browser) Other Services* AutoNavi (mapping and navigation) Koubei (local services) Ele.me (delivery) Finance* Ant Financial (includes Alipay) MYbank Logistics* Cainiao Network Cloud Computing* Alibaba Cloud * Major investee companies and cooperative partners of Alibaba Group As the recalibrated algorithms produce increasingly accurate predictions, Ant’s risk and costs steadily decrease, and borrowers get the money they need, when they need it, at an interest rate they can afford. The result is a highly successful business: The microlending operation has a default rate of about 1%, far below the World Bank’s 2016 estimate of an average of 4% worldwide.  So how do you create that kind of business?  Automate All Operating Decisions To become a smart business, your firm must enable as many operating decisions as possible to be made by machines fueled by live data rather than by humans supported by their own data analysis. Transforming decision making in this way is a four-step process.  Step 1: “Datafy” every customer exchange. Ant was fortunate to have access to plenty of data on potential borrowers to answer the questions inherent in its lending business. For many businesses, the data capture process will be more challenging. But live data is essential to creating the feedback loops that are the basis of machine learning.  Consider the bike rental business. Start-ups in China have leveraged mobile telephony, the internet of things (in the form of smart bike locks), and existing mobile payment and credit systems to datafy the entire rental process.  Renting a bike traditionally involved going to a rental location, leaving a deposit, having someone give you a bike, using the bike, returning it, and then paying for the rental by cash or credit card. Several rival Chinese companies put all of this online by integrating various new technologies with existing ones. A crucial innovation was the combination of QR codes and electronic locks that cleverly automated the checkout process. By opening the bike-sharing app, a rider can see available bicycles and reserve one nearby. Once the rider arrives at the bicycle, he or she uses the app to scan a QR code on the bicycle. Assuming that the person has money in his or her account and meets the rental criteria, the QR code will open the electronic bike lock. The app can even verify the person’s credit history through Sesame Credit, Ant Financial’s new online product for consumer credit ratings, allowing the rider to skip paying a deposit, further expediting the process. When the bike is returned, closing the lock completes the transaction. The process is simple, intuitive, and usually takes only several seconds.  Datafying the rental process greatly improves the consumer experience. On the basis of live data, companies dispatch trucks to move bikes to where users want them. They can also alert regular users to the availability of bikes nearby. Thanks in large part to these innovations, the cost of bike rentals in China has fallen to just a few cents per hour.  Most businesses that seek to be more data-driven typically collect and analyze information in order to create a causal model. The model then isolates the critical data points from the mass of information available. That is not how smart businesses use data. Instead, they capture all information generated during exchanges and communications with customers and other network members as the business operates and then let the algorithms figure out what data is relevant.  Step 2: “Software” every activity. In a smart business, all activities—not just knowledge management and customer relations—are configured using software so that decisions affecting them can be automated. This does not mean that a firm needs to buy or build ERP software or its equivalent to manage its business—quite the opposite. Traditional software makes processes and decision flows more rigid and often becomes a straitjacket. In contrast, the dominant logic for smart business is reactivity in real time. The first step is to build a model of how humans currently make decisions and find ways to replicate the simpler elements of that process using software—which is not always easy, given that many human decisions are built on common sense or even subconscious neurological activity.  The growth of Taobao, the domestic retailing website of Alibaba Group, is driven by continuous softwaring of the retailing process. One of the first major software tools built on Taobao was an instant message tool called Wangwang, through which buyers and sellers can talk to each other easily. Using the tool, the sellers greet buyers, introduce products, negotiate prices, and so on, just as people do in a traditional retail shop. Alibaba also developed a set of software tools that help sellers design and launch a variety of sophisticated online shop fronts. Once online shops are up and running, sellers can access other software products to issue coupons, offer discounts, run loyalty programs, and conduct other customer relationship activities, all of which are coordinated with one another.  Because most software today is run online as a service, an important advantage of softwaring a business activity is that live data can be collected naturally as part of the business process, building the foundation for the application of machine-learning technologies.  Step 3: Get data flowing. In ecosystems with many interconnected players, business decisions require complex coordination. Taobao’s recommendation engines, for example, need to work with the inventory management systems of sellers and with the consumer-profiling systems of various social media platforms. Its transaction systems need to work with discount offers and loyalty programs, as well as feed into our logistics network.  Communication standards, such as TCP/IP, and application programming interfaces (APIs) are critical in getting the data flowing among multiple players while ensuring strict control of who can access and edit data throughout the ecosystem. APIs, a set of tools that allow different software systems to “talk” and coordinate with one another online, have been central to Taobao’s development. As the platform grew from a forum where buyers and sellers could meet and sell goods to become China’s dominant e-commerce website, merchants on the site needed more and more support from third-party developers. New software had to be broadly interoperable with all other software on the platform to be of any value. So in 2009, Taobao began developing APIs for use by independent software suppliers. Today, merchants on Taobao subscribe to more than 100 software modules, on average, and the live data services they enable drastically decrease the merchants’ cost of doing business.  Getting the technical infrastructure right is just the beginning. It took tremendous effort for us to build a common standard so that data could be used and interpreted in the same way across all of Alibaba’s business units. Additionally, figuring out the right incentive structures to persuade companies to share the data they have is an important and ongoing challenge. Much more work is needed. Of course, the degree to which companies can innovate in this area will depend in part on the rules governing data sharing in the countries they’re operating in. But the direction is very clear: The more data flows across the network, the smarter the business becomes, and the more value the ecosystem creates.  Step 4: Apply the algorithms. Once a business has all its operations online, it will experience a deluge of data. To assimilate, interpret, and use the data to its advantage, the firm must create models and algorithms that make explicit the underlying product logic or market dynamics that the business is trying to optimize. This is a huge creative undertaking that requires many new skills, hence the enormous demand for data scientists and economists. Their challenge is to specify what job they want the machine to do, and they have to be very clear about what constitutes a job well done in a particular business setting.  From very early on, our goal for Taobao was to tailor it to each individual’s needs. This would have been impossible without advances in machine learning. Today, when customers log on, they see a customized webpage with a selection of products curated from the billions offered by our millions of sellers. The selection is generated automatically by Taobao’s powerful recommendation engine. Its algorithms, which are designed to optimize the conversion rate of each visit, churn data generated across Taobao’s platform, from operations to customer service to security.  Alibaba by the Numbers The Alibaba Group went public in the United States in September 2014 and has grown at a blistering pace, now boasting a market cap of more than $500 billion. The group’s e-commerce platforms now have more than 550 million annual active consumers. These numbers don’t include Ant Financial, which reports financial results separately.  In the fiscal year ending March 2017, Alibaba Group reported profits of more than $15 billion on nearly $40 billion in revenue. Ant reported profits of $814 million on revenue of $8.9 billion and is currently valued at over $100 billion. Ant pays Alibaba royalties, which amounted to $332 million in 2017.  A milestone in Taobao’s growth, in 2009, was the upgrade from simple browsing, which worked reasonably well when the platform had many fewer visits and products to handle, to a search engine powered by machine-learning algorithms and capable of processing huge volumes of inquiries. Taobao has also been experimenting with optical-recognition search algorithms that can take a photo of a desired item supplied by the customer and match it to available products on the platform. While we are still in the early stages of using this technology to drive sales, the function has proved very popular with customers, boasting 10 million unique visits daily.  In 2016, Alibaba introduced an AI-powered chatbot to help field customer queries. It is different from the mechanical service providers familiar to most people that are programmed to match customer queries with answers in their repertoire. Alibaba’s chatbots are “trained” by experienced representatives of Taobao merchants. They know all about the products in their categories and are well versed in the mechanics of Alibaba’s platforms—return policies, delivery costs, how to make changes to an order—and other common questions customers ask. Using a variety of machine-learning technologies, such as semantic comprehension, context dialogues, knowledge graphs, data mining, and deep learning, the chatbots rapidly improve their ability to diagnose and fix customer issues automatically, rather than simply return static responses that prompt the consumer to take further action. They confirm with the customer that the solution presented is acceptable and then execute it. No human action by Alibaba or the merchant occurs.  Chatbots can also make a significant contribution to a seller’s top line. Apparel brand Senma, for example, started using one a year ago and found that the bot’s sales were 26 times higher than the merchant’s top human sales associate.  There will always be a need for human customer representatives to deal with complicated or personal issues, but the ability to handle routine queries via a chatbot is very useful, especially on days of high volume or special promotions. Previously, most large sellers on our platform would hire temp workers to handle consumer inquiries during big events. Not anymore. During Alibaba’s biggest sales day in 2017, the chatbot handled more than 95% of customer questions, responding to some 3.5 million consumers.  These four steps are the basis for creating a smart business: Engage in creative datafication to enrich the pool of data the business uses to become smarter; software the business to put workflows and essential actors online; institute standards and APIs to enable real-time data flow and coordination; and apply machine-learning algorithms to generate “smart” business decisions. All the activities involved in the four steps are important new competencies that require a new kind of leadership.  The Leader’s Role In my course on smart business at Hupan School of Entrepreneurship, I show a slide of 10 business leaders and ask the students to identify them. They can easily pick out Jack Ma, Elon Musk, and Steve Jobs. But virtually no one can identify the CEO of CitiGroup or Toyota or General Electric.  There is a reason for this. Unlike GE, Toyota, and CitiGroup, which deliver products or services through optimized supply chains, digital companies must mobilize a network to realize their vision. To do that, their leaders have to inspire the employees, partners, and customers who make up that network. They must be visionaries and evangelists, outspoken in a way that the leaders of traditional companies do not have to be.  At the highest level, the digital evangelists must understand what the future will look like and how their industries will evolve in response to societal, economic, and technological changes. They cannot describe concrete steps to realize their companies’ goals because the environment is too fluid and the capabilities they will require are unknowable. Instead, they must define what the firm seeks to achieve and create an environment in which workers can quickly string together experimental products and services, test the market, and scale the ideas that elicit a positive response. Digital leaders no longer manage; rather, they enable workers to innovate and facilitate the core feedback loop of user responses to firm decisions and execution.  Further Reading HBR Articles on Strategy for Platform Businesses Finding the Platform in Your Product Andrei Hagiu and Elizabeth J. ...  In the smart business model, machine-learning algorithms take on much of the burden of incremental improvement by automatically making adjustments that increase systemwide efficiency. Thus, leaders’ most important job is to cultivate creativity. Their mandate is to increase the success rate of innovation rather than improve the efficiency of the operation.  CONCLUSION Digital-native companies such as Alibaba have the advantage of being born online and data-ready, so their transformation to smart business is quite natural. Now that they have proven the model works and are transforming the old industrial economy, it is time for all companies to understand and apply this new business logic. That may look technologically intimidating, but it is becoming more and more feasible. The commercialization of cloud computing and artificial intelligence technologies has made large-scale computational power and analytic capabilities accessible to anyone. Indeed, the cost of storing and computing large quantities of data has dropped dramatically over the past decade. This means that real-time applications of machine learning are now possible and affordable in more and more environments. The rapid development of internet-of-things technology will further digitize our physical surroundings, providing ever more data. As these innovations accumulate in the coming decades, the winners will be companies that get smart faster than the competition.\n"
     ]
    }
   ],
   "source": [
    "#   This is temporary but this emulates the text box --> test the algorithm\n",
    "print('240 character limit')\n",
    "text_input = input(\"What resource do you need to grow your business?\")\n",
    "print(text_input)\n"
   ]
  },
  {
   "cell_type": "code",
   "execution_count": 38,
   "metadata": {},
   "outputs": [],
   "source": [
    "#   input manipulation to clean it up\n",
    "# if len(text_input) > 240:\n",
    "#     print(\"Input is too long, please try again.\")\n",
    "#     sys.exit()"
   ]
  },
  {
   "cell_type": "markdown",
   "metadata": {},
   "source": [
    "### NLP Model Execution & Keyword Extraction"
   ]
  },
  {
   "cell_type": "code",
   "execution_count": 39,
   "metadata": {},
   "outputs": [],
   "source": [
    "#   spaCy\n"
   ]
  },
  {
   "cell_type": "code",
   "execution_count": 40,
   "metadata": {},
   "outputs": [
    {
     "name": "stdout",
     "output_type": "stream",
     "text": [
      "                        term     score\n",
      "0                   business  0.004292\n",
      "1                    Alibaba  0.004541\n",
      "2                       data  0.005218\n",
      "3             smart business  0.007722\n",
      "4   Alibaba Pictures Alibaba  0.012739\n",
      "5      Alibaba Music Alibaba  0.012739\n",
      "6              Alibaba Group  0.014378\n",
      "7                     Taobao  0.016120\n",
      "8              Ant Financial  0.016917\n",
      "9                        Ant  0.017061\n",
      "10                    online  0.021319\n",
      "11                 companies  0.021344\n",
      "12        business decisions  0.024621\n",
      "13                  Software  0.024761\n",
      "14                  platform  0.025163\n",
      "15                algorithms  0.025527\n",
      "16                     smart  0.025933\n",
      "17                     China  0.027163\n",
      "18                 live data  0.031105\n",
      "19                  customer  0.031434\n"
     ]
    }
   ],
   "source": [
    "#   YAKE\n",
    "keywords = yake_extractor.extract_keywords(text_input)\n",
    "\n",
    "keywords_df = pd.DataFrame(keywords, columns=['term', 'score'])\n",
    "keywords_df = keywords_df.sort_values(by='score')\n",
    "print(keywords_df) # The lower the score the more relevant the keyword is"
   ]
  },
  {
   "cell_type": "code",
   "execution_count": 41,
   "metadata": {},
   "outputs": [
    {
     "name": "stdout",
     "output_type": "stream",
     "text": [
      "Rake-NLTK:\n",
      " \n",
      "['glance chinese retail marketplaces taobao marketplace tmall rural taobao cross', 'global marketplaces aliexpress tmall global lazada wholesale commerce 1688', 'business functions moved online — including established ones', 'alibaba pictures alibaba music alibaba sports uc', 'recalibrated algorithms produce increasingly accurate predictions', 'boasting 10 million unique visits daily', '“ datafy ” every customer exchange', 'generate “ smart ” business decisions', 'instant message tool called wangwang', '550 million annual active consumers', 'several rival chinese companies put', '87 billion rmb ($ 13', 'churn data generated across taobao ’', 'fiscal year ending march 2017', '“ software ” every activity', 'data flowing among multiple players', 'quickly string together experimental products', 'platform would hire temp workers', 'business decisions require complex coordination', 'common business goal — retailing', 'simply return static responses', 'platforms — return policies', 'reports financial results separately', 'even subconscious neurological activity', 'cannot describe concrete steps', 'poor credit pays back', 'excellent credit catastrophically defaults', 'less mathematically precise information', 'handle routine queries via', 'sophisticated online shop fronts', 'may look technologically intimidating', 'help field customer queries', 'integrating various new technologies', 'first major software tools built', 'profitable sme lending business', 'traditional software makes processes', 'around barely 20 years', 'also alert regular users', 'algorithm clearly needs tweaking', 'alibaba group went public', 'minimum loan amount —', 'mechanical service providers familiar', 'rules governing data sharing', 'various social media platforms', 'ant pays alibaba royalties', 'rental process greatly improves', 'bike traditionally involved going', 'requires many new skills', 'platforms gave us authorization', 'nearly three million smes', 'fix customer issues automatically', 'top human sales associate', 'taobao began developing apis', 'alibaba group reported profits', 'allow different software systems', 'indeed every action taken', 'smart bike locks ),', 'helped create new types', 'digital companies must mobilize', 'gaining tremendous competitive advantage', '“ trained ”', 'completely reinventing china ’', 'line physical elements ).', 'cainiao network cloud computing', 'alibaba experienced great growth', 'firm must create models', 'humans currently make decisions', 'process using software —', 'global top 10', '“ talk ”', 'digital evangelists must understand', 'online business would need', 'highly valued companies today', 'would “ foster', 'many fewer visits', 'traditional retail shop', 'lending institutions need answer', 'create ant financial services', 'commerce trends began', 'common questions customers ask', '6 million rmb', 'produce better decisions', 'several hundred rmb', 'took tremendous effort', 'ride sharing —', '5 million consumers', 'ant reported profits', 'journey really began', '1 million —', 'retail sector along', 'probabilistic prediction models', 'many small businesses using', 'many interconnected players', 'customer relations —', '1 million rmb', 'highly successful business', 'technical infrastructure right', 'right incentive structures', 'reading hbr articles', 'optimized supply chains', 'old industrial economy', 'impossible without advances', 'gross profit margins', 'even adequate documentation', 'ensuring strict control', 'drab seaside hotel', 'desired item supplied', 'cents per hour', 'apparel brand senma', 'ample computing power', '26 times higher', 'many human decisions', 'independent software suppliers', 'smart businesses use data', 'three basic questions', 'domestic retailing website', 'product life cycles', 'product andrei hagiu', 'business models similar', 'lending operation together', 'social media influencers', 'processing huge volumes', 'leveraged mobile telephony', 'market cap among', 'underlying product logic', 'successful payments business', 'particular business setting', 'business — quite', 'search engine powered', 'powerful recommendation engine', 'enable drastically decrease', 'costs steadily decrease', 'core feedback loop', 'automatically making adjustments', 'algorithmic engine goes', '100 software modules', 'ant microloans provides', 'get data flowing', 'new online product', 'call smart business', 'smart business emerges', '1 %, far', 'major investee companies', 'companies dispatch trucks', 'data generated inside', 'match customer queries', 'data flows across', 'include ant financial', 'prediction models become', 'human decision making', 'driven typically collect', 'artificial intelligence technologies', 'computing large quantities', 'new business logic', 'human customer representatives', 'configured using software', 'efficiently leverage data', 'edit data throughout', 'data points provide', 'huge creative undertaking', 'existing mobile payment', 'market power emerged', 'changing market conditions', 'help sellers design', 'online commerce company', 'get smart faster', 'firm must enable', 'recognition search algorithms', 'alibaba also developed', 'scale computational power', 'real difficulties securing', 'isolate traits common', 'charge requires analysis', 'application programming interfaces', 'analytic capabilities accessible', 'many operating decisions', 'entire rental process', 'customer relationship activities', 'important new competencies', 'biggest sales day', 'worked reasonably well', 'commerce ecosystem .”', 'driven microloan business', 'reserve one nearby', 'high credit ratings', 'consumer credit ratings', 'inventory management systems', 'dominant business logic', 'build erp software', '10 business leaders', 'companies ’ goals', 'transaction data generated', 'data scientists come', 'run loyalty programs', 'compare good borrowers', 'ant financial ’', 'typical loan given', 'started using one', 'essential actors online', 'bike rental business', 'transforming decision making', 'see available bicycles', 'smart business model', 'electronic bike lock', 'global sales', 'one another online', 'critical data points', 'transaction systems need', 'sellers could meet', 'increase systemwide efficiency', 'functions associated', 'world bank ’', 'alibaba launched ant', 'easily process loans', 'commerce platforms', 'average loan size', 'platform businesses finding', 'time data flow', 'assess relationship quality', 'handle consumer inquiries', 'calculate credit scores', 'live data services', 'sellers greet buyers', 'job well done', 'live data rather', 'data capture process', 'business activity', 'top line', 'players involved', 'lending institutions', 'increasingly replaced', 'existing ones', 'currently valued', 'generated automatically', 'commerce website', 'become china ’', 'new software', 'retailing process', 'thus machine learning', 'learning algorithms take', 'activities —', 'information generated', 'firm decisions', 'chatbots rapidly improve', 'smes ).', 'huge amount', 'digital media', 'cloud computing', 'business decisions', 'merchants ’ cost', 'software tools', 'many types', 'many types', 'lending business', 'instant messaging', 'experienced representatives', 'emerging ones', 'electronic locks', 'bad ones', 'every transaction', 'taobao ’', 'taobao ’', 'taobao ’', 'taobao ’', '814 million', '332 million', 'credit systems', 'smart business', 'smart business', 'smart business', 'smart business', 'smart business', 'smart business', 'smart business', 'companies put', 'several seconds', 'human action', 'alibaba group', 'alibaba group', 'taobao subscribe', 'every connection', 'every communication', 'ant financial', 'ant financial', 'done automatically', 'decision making', 'run online', 'service providers', '000 rmb', 'alibaba cloud', 'commerce platform', 'enable workers', 'china —', 'customer questions', 'operational decisions', 'operating decisions', 'major businesses', 'decisions affecting', 'dominant logic', 'way across', 'software products', 'taobao merchants', 'user responses', 'simpler elements', 'put workflows', 'physical surroundings', 'personal issues', 'must define', 'methods common', 'major markets', 'loyalty programs', 'humans supported', 'even verify', 'decision flows', 'common standard', 'common sense', 'algorithm churns', 'business process', 'group ’', 'traditional companies', 'many businesses', '— amazon', 'order —', 'firm needs', '100 billion', 'activities involved', 'learning technologies', 'learning technologies', 'new venture', 'new capabilities', 'customer service', 'financial services', 'digital data', 'profiling systems', 'product recommenders', 'global', 'online businesses', 'business activities', 'every iteration', 'information available', 'business ’', 'alibaba ’', 'alibaba ’', 'alibaba ’', 'alibaba ’', 'alibaba ’', 'alibaba ’', 'alibaba ’', 'alibaba ’', 'online video', 'online shops', 'born online', 'customer preferences', 'traditional businesses', 'data intelligence', 'data could', 'year ago', 'mobile browser', 'first step', 'conclusion digital', 'also make', '000 ).', 'software today', 'market cap', 'sesame credit', 'credit score', 'credit history', 'credit history', 'credit card', 'ant ’', 'online network', 'firm seeks', 'service companies', 'live data', 'live data', 'live data', 'network coordination', 'business units', 'business relationships', 'business operates', 'business becomes', 'alibaba introduced', 'alibaba hit', 'data scientists', 'data scientists', 'users want', 'size enterprises', 'seven years', 'rental location', 'rental criteria', 'recommendation engines', 'quite natural', 'offer loans', 'lock completes', 'inventory turnover', 'good portion', 'feedback loops', 'enable real', 'creative datafication', 'bikes nearby', 'biggest ipo', 'algorithmic output', 'one another', 'one another', 'online platform', 'digital leaders', 'step process', 'checkout process', 'alibaba network', '9 billion', '500 billion', '40 billion', '15 billion', 'step 1', 'questions inherent', 'drive sales', 'persuade companies', 'native companies', 'antlike companies', 'allows companies', 'available products', 'transaction data', 'management team', 'knowledge management', 'sharing app', 'four steps', 'four steps', 'work requires', 'services available', 'retail', 'borrowers get', 'alibaba today', 'new kind', 'learning algorithms', 'learning algorithms', 'learning algorithms', 'bike rentals', 'business uses', 'look like', 'look like', 'look like', 'merchant ’', 'leader ’', 'individual ’', 'bot ’', 'pioneering data', 'data mining', 'data analysis', 'behavioral data', 'powered chatbot', 'make sure', 'make explicit', 'make changes', 'deep learning', 'driven network', 'market dynamics', 'logistics companies', 'products curated', 'introduce products', 'deliver products', 'traditional industries', 'ant uses', '4 billion', 'engineering algorithms', 'algorithms might', 'algorithms figure', 'operations online', 'zhejiang province', 'youku tudou', 'usually takes', 'user behavior', 'unlike ge', 'united states', 'united states', 'united states', 'technological innovation', 'technological changes', 'surpassed walmart', 'success rate', 'strategic imperative', 'steve jobs', 'step 2', 'specific actions', 'special promotions', 'special innovation', 'someone give', 'solution presented', 'significant contribution', 'september 2014', 'september 2014', 'semantic comprehension', 'qr codes', 'qr code', 'qr code', 'providing ever', 'potential borrowers', 'potential borrowers', 'past decade', 'party developers', 'output gets', 'often becomes', 'offer discounts', 'negotiate prices', 'move bikes', 'merchant occurs', 'local services', 'knowledge graphs', 'joined full', 'issue coupons', 'interest rate', 'interest rate', 'institute standards', 'incremental improvement', 'important job', 'important advantage', 'hupan school', 'highest level', 'high volume', 'healthy helping', 'general electric', 'firms follow', 'find ways', 'enormous demand', 'elon musk', 'elizabeth j', 'economically efficient', 'easily pick', 'easily check', 'dropped dramatically', 'disjointed observations', 'discount offers', 'delivery costs', 'default rate', 'deep understanding', 'customized webpage', 'cultivate creativity', 'crucial innovation', 'conversion rate', 'context dialogues', 'communication standards', 'coming decades', 'collected naturally', 'broadly interoperable', 'blistering pace', 'billions offered', 'big events', 'adapt dynamically', 'world ’', 'world ’', 'leaders ’', 'way business', 'learning technology', 'network members', 'well versed', 'well positioned', 'large sellers', 'model works', 'enabled model', 'causal model', 'analyze information', 'customers log', 'seller ’', 'seller ’', 'platform provided', 'platform grew', 'machine learning', 'machine learning', 'machine learning', 'machine learning', 'technology advanced', 'mybank logistics', 'microlending operation', 'linked buyers', 'innovation rather', 'internet companies', 'large banks', 'person ’', 'time applications', 'step 4', 'real time', 'real time', 'real time', 'real time', 'real time', 'dominant e', 'chatbot handled', 'logistics network', 'seller deemed', 'made large', 'large part', 'truly building', 'step 3', 'skip paying', 'sell goods', 'positive response', 'ongoing challenge', 'machines fueled', 'longer manage', 'includes alipay', 'household name', 'hence supported', 'founder jack', 'early stages', 'datafy', 'continuous softwaring', 'consumer experience', 'cleverly automated', 'boasting', 'become smarter', 'always easy', 'affiliate marketing', '2016 estimate', 'ecosystem creates', 'use machine', 'simple browsing', 'rider arrives', 'rapid development', 'prosperous e', 'much interest', 'money necessary', 'larger view', 'innovations accumulate', 'cooperative partners', 'taobao', 'taobao', 'taobao', 'taobao', 'would', 'things technology', '10', 'striking example', 'site needed', 'amounts needed', 'tool', 'must', 'goal', 'consumers', 'apply machine', 'software', 'software', 'loan', 'online', 'online', 'customer', 'customer', 'customer', 'year', 'workers', 'tools', 'social', 'much value', 'handle', 'first', 'coordination', 'business', 'business', 'business', 'business', 'business', 'business', 'business', 'business', 'alibaba', 'alibaba', 'alibaba', 'alibaba', 'alibaba', 'alibaba', 'alibaba', 'alibaba', 'us', 'understand', 'rental', 'nearly', 'indeed', 'gave', 'evangelists', 'different', 'create', 'create', 'create', 'competitive', 'ask', 'around', 'also', 'process', 'process', 'ant', 'ant', 'ant', 'sales', 'questions', '1', 'companies', 'companies', 'companies', 'require', 'require', 'quickly', 'quickly', 'needs', 'built', 'built', 'action', '2017', '2017', 'using', 'using', 'using', 'using', 'get', 'driven', 'bike', 'bike', 'bike', 'bike', 'transaction', 'service', 'look', '’', '’', '’', '’', 'data', 'data', 'data', 'data', 'data', 'data', 'data', 'data', 'data', 'data', 'data', 'data', 'data', 'data', 'data', 'data', 'make', 'one', 'one', 'need', 'need', 'need', 'need', 'market', 'market', 'products', 'products', 'businesses', 'businesses', 'businesses', 'businesses', 'algorithms', 'algorithms', 'algorithms', 'algorithms', 'algorithms', 'transforming', 'traits', 'thus', 'talk', 'small', 'small', 'services', 'services', 'services', 'see', 'scores', 'scale', 'real', 'rapidly', 'operating', 'match', 'launched', 'job', 'inquiries', 'increase', 'improve', 'important', 'high', 'growth', 'growth', 'efficiency', 'easily', 'critical', 'consumer', 'consumer', 'company', 'capabilities', 'calculate', 'borrowers', 'better', 'become', 'become', 'assess', 'application', 'answer', 'answer', 'analysis', 'along', 'advantage', 'advantage', 'network', 'network', 'network', 'well', 'well', 'well', 'model', 'model', 'world', 'world', 'use', 'use', 'use', 'leaders', 'leaders', 'customers', 'customers', 'customers', 'platform', 'platform', 'platform', 'platform', 'platform', 'platform', 'platform', 'technology', 'rather', 'rather', 'operation', 'operation', 'merchants', 'merchants', 'logistics', 'buyers', 'buyers', 'apis', 'apis', 'apis', 'today', 'today', 'today', 'today', 'uses', 'time', 'time', 'time', 'time', 'time', 'quality', 'quality', 'needed', 'given', 'given', 'four', 'essential', 'essential', 'cost', 'cost', 'china', 'china', 'china', 'china', 'china', 'china', 'chatbots', 'chatbots', 'chatbot', 'capture', 'capture', 'build', 'build', 'average', 'average', '4', 'sellers', 'sellers', 'sellers', 'sellers', 'sellers', 'sellers', 'sellers', 'machine', 'machine', 'machine', 'machine', 'machine', 'machine', 'seller', 'seller', 'want', 'things', 'take', 'take', 'take', 'softwaring', 'smarter', 'site', 'seven', 'response', 'person', 'paying', 'order', 'name', 'marketing', 'manage', 'machines', 'jack', 'iteration', 'industries', 'hence', 'goods', 'experience', 'early', 'delivery', 'challenge', 'building', 'banks', 'automated', 'amounts', 'amazon', 'always', 'alipay', '3', '2016', 'ecosystem', 'ecosystem', 'ecosystem', 'ecosystem', 'ecosystem', 'way', 'way', 'way', 'value', 'value', 'simple', 'simple', 'rider', 'rider', 'partners', 'partners', 'part', 'part', 'operations', 'operations', 'much', 'much', 'much', 'much', 'money', 'money', 'made', 'made', 'larger', 'larger', 'kind', 'kind', 'internet', 'internet', 'innovations', 'innovations', 'e', 'e', 'e', 'e', 'development', 'development', 'apply', 'apply', 'app', 'app', 'analyze', 'analyze', 'work', 'work', 'work', 'example', 'example', 'example', 'example', 'worldwide', 'words', 'winners', 'wholesalers', 'whether', 'weight', 'visit', 'visionaries', 'vision', 'vision', 'virtually', 'vastly', 'variety', 'variety', 'useful', 'used', 'used', 'ups', 'upgrade', 'unknowable', 'type', 'trying', 'transformation', 'transform', 'toyota', 'toyota', 'third', 'thanks', 'testing', 'test', 'tens', 'tencent', 'tech', 'tcp', 'tailor', 'support', 'succeed', 'students', 'strategy', 'strategy', 'straitjacket', 'storing', 'still', 'still', 'steward', 'start', 'sprawling', 'specify', 'societal', 'slide', 'show', 'share', 'set', 'set', 'selection', 'selection', 'seek', 'seek', 'security', 'scan', 'scalable', 'running', 'role', 'risk', 'rigid', 'revenue', 'revenue', 'returning', 'returned', 'result', 'responding', 'resources', 'resources', 'represents', 'replicate', 'repertoire', 'repay', 'renting', 'removed', 'reluctant', 'relevant', 'reason', 'realized', 'realized', 'realize', 'realize', 'ready', 'reactivity', 'proven', 'proved', 'prompt', 'programmed', 'previously', 'possible', 'possible', 'possible', 'popular', 'pool', 'plenty', 'photo', 'people', 'people', 'paypal', 'parameters', 'outspoken', 'organisms', 'optimize', 'optimize', 'optical', 'opposite', 'opening', 'open', 'open', 'offerings', 'numbers', 'numbers', 'ningbo', 'navigation', 'minutes', 'mine', 'millions', 'millions', 'millions', 'milestone', 'met', 'meets', 'meeting', 'medium', 'mechanics', 'means', 'mean', 'mass', 'marketers', 'mapping', 'manufacturers', 'manufacturers', 'mandate', 'mail', 'loads', 'little', 'let', 'lent', 'length', 'lend', 'lend', 'lend', 'leaving', 'leadership', 'launch', 'lacked', 'koubei', 'know', 'kinds', 'iterations', 'isolates', 'ip', 'intuitive', 'interpreted', 'interpret', 'interacting', 'instead', 'instead', 'inspire', 'insights', 'innovate', 'innovate', 'ingredient', 'industrious', 'inception', 'improving', 'identifying', 'identify', 'identify', 'ideas', 'ideas', 'idea', 'however', 'headlines', 'grown', 'grow', 'groups', 'google', 'google', 'getting', 'getting', 'garnish', 'future', 'future', 'future', 'future', 'functioning', 'function', 'fuel', 'frequency', 'foundation', 'found', 'forum', 'fortunate', 'form', 'fluid', 'five', 'finance', 'finance', 'figuring', 'feed', 'fedex', 'feasible', 'fashion', 'fallen', 'facilitate', 'faced', 'facebook', 'expertise', 'experimenting', 'expediting', 'expanded', 'expanded', 'execution', 'execute', 'exchanges', 'evolving', 'evolve', 'evolution', 'especially', 'equivalent', 'environments', 'environment', 'environment', 'environment', 'entrepreneurship', 'entertainment', 'enrich', 'engineers', 'engage', 'end', 'empowering', 'employees', 'elicit', 'ele', 'ecosystems', 'ecosystems', 'economists', 'economic', 'ebay', 'dollars', 'direction', 'digitize', 'diagnose', 'determining', 'designed', 'deposit', 'deposit', 'depend', 'deluge', 'degree', 'deal', 'days', 'datafying', 'creating', 'creating', 'creating', 'course', 'course', 'course', 'course', 'course', 'countries', 'coordinated', 'coordinated', 'coordinated', 'coordinate', 'coordinate', 'contrast', 'constitutes', 'consider', 'consider', 'consequence', 'confirm', 'conducted', 'conduct', 'complicated', 'competition', 'community', 'communications', 'communications', 'commercialization', 'combination', 'com', 'com', 'coalesce', 'closing', 'clear', 'clear', 'citigroup', 'citigroup', 'challenging', 'ceo', 'centric', 'central', 'categories', 'cash', 'capable', 'buyer', 'buy', 'burden', 'bundled', 'border', 'bicycle', 'bicycle', 'believe', 'beginning', 'becoming', 'beater', 'basis', 'basis', 'basis', 'basis', 'availability', 'autonavi', 'automate', 'assumptions', 'assuming', 'assimilate', 'area', 'approach', 'anyone', 'anymore', 'answers', 'amounted', 'allowing', 'ai', 'agreed', 'affordable', 'afford', 'affects', 'advertising', 'additionally', 'added', 'achieving', 'achieve', 'account', 'accommodate', 'access', 'access', 'access', 'access', 'acceptable', 'ability', 'ability', '95', '8', '8', '50', '2012', '2012', '2010', '2009', '2009', '2007', '200', '1999', '160', '...']\n"
     ]
    }
   ],
   "source": [
    "#   Rake-NLTK\n",
    "rake_nltk_extractor.extract_keywords_from_text(text_input)\n",
    "keywords_extracted = rake_nltk_extractor.get_ranked_phrases()\n",
    "print(\"Rake-NLTK:\\n \")\n",
    "print(keywords_extracted)"
   ]
  },
  {
   "cell_type": "code",
   "execution_count": 43,
   "metadata": {},
   "outputs": [
    {
     "name": "stdout",
     "output_type": "stream",
     "text": [
      "Gensim:\n",
      " \n",
      "businesses\n",
      "business\n",
      "alibaba\n",
      "customer\n",
      "customers\n",
      "customized\n",
      "data network\n",
      "online\n",
      "company\n",
      "companies\n",
      "software\n",
      "softwaring\n",
      "credit\n",
      "product\n",
      "products\n",
      "ant\n",
      "processing\n",
      "marketers service\n",
      "market\n",
      "marketing\n",
      "technology\n",
      "technological\n",
      "technologies\n",
      "technologically\n",
      "digital\n",
      "digitize\n",
      "algorithm\n",
      "algorithms\n",
      "need\n",
      "needed\n",
      "needs\n",
      "makes processes\n",
      "easily process\n",
      "platform\n",
      "platforms\n",
      "financial services\n",
      "retail\n",
      "retailing\n",
      "major markets\n",
      "step\n",
      "steps\n",
      "today\n",
      "bikes\n",
      "models\n",
      "model\n",
      "loan\n",
      "taobao\n",
      "helped create new\n",
      "algorithmic engine\n",
      "operational decisions\n",
      "bike rental\n",
      "sellers\n",
      "seller\n",
      "commerce\n",
      "common\n",
      "human decision making\n",
      "consumers\n",
      "consumer\n",
      "sales\n",
      "provided\n",
      "providers\n",
      "provides\n",
      "provide\n",
      "providing\n",
      "year\n",
      "years\n",
      "rentals\n",
      "returning\n",
      "returned\n",
      "return\n",
      "humans\n",
      "generated\n",
      "generate\n",
      "general\n",
      "management\n",
      "manage\n",
      "questions\n",
      "offer loans\n",
      "goods\n",
      "good\n",
      "millions\n",
      "million\n",
      "systems\n",
      "activities\n",
      "activity\n",
      "active\n",
      "engineering\n",
      "engineers\n",
      "engines\n",
      "enable\n",
      "creative\n",
      "creativity\n",
      "mobile\n",
      "mobilize\n",
      "learning\n",
      "machine\n",
      "machines\n",
      "tremendous\n",
      "traditional\n",
      "operations\n",
      "operation\n",
      "operating\n",
      "operates\n",
      "creating\n",
      "creates\n",
      "global\n",
      "innovation\n",
      "innovations\n",
      "innovate\n",
      "time\n",
      "times\n",
      "development\n",
      "developed\n",
      "developers\n",
      "developing\n",
      "power\n",
      "powerful\n",
      "powered\n",
      "logistics\n",
      "computing\n",
      "computational\n",
      "coordinated\n",
      "coordinate\n",
      "coordination\n",
      "requires\n",
      "require\n",
      "functions\n",
      "function\n",
      "rate\n",
      "ratings\n",
      "large\n",
      "smes\n",
      "user\n",
      "users\n",
      "relationships\n",
      "relationship\n",
      "visit\n",
      "visits\n",
      "sme lending\n",
      "tools\n",
      "tool\n",
      "lend\n",
      "industries\n",
      "industrious\n",
      "industrial\n",
      "use\n",
      "uses\n",
      "useful\n",
      "merchants\n",
      "merchant\n",
      "includes\n",
      "include\n",
      "real\n",
      "profitable\n",
      "profit\n",
      "sharing\n",
      "share\n",
      "responses\n",
      "response\n",
      "firms\n",
      "firm\n",
      "players involved\n",
      "example\n",
      "improving\n",
      "improves\n",
      "improve\n",
      "improvement\n",
      "feedback\n",
      "zhejiang\n",
      "simple\n",
      "seaside\n",
      "hbr\n",
      "partners\n",
      "strict\n",
      "marketplaces\n",
      "marketplace\n",
      "information\n",
      "media\n",
      "ones\n",
      "issue\n",
      "issues\n",
      "chinese\n",
      "supplied\n",
      "supply\n",
      "available\n",
      "availability\n",
      "reported profits\n",
      "helping\n",
      "help\n",
      "offerings\n",
      "offers\n",
      "prediction\n",
      "predictions\n",
      "billions offered\n",
      "billion\n",
      "world\n",
      "actions\n",
      "action\n",
      "efficient\n",
      "efficiently\n",
      "efficiency\n",
      "physical\n",
      "smart\n",
      "capabilities\n",
      "capable\n",
      "running\n",
      "run\n",
      "pays\n",
      "paying\n",
      "chatbot\n",
      "chatbots\n",
      "reports\n",
      "shop\n",
      "shops\n",
      "borrowers\n",
      "began\n",
      "successful\n",
      "success\n",
      "google\n"
     ]
    }
   ],
   "source": [
    "#   Gensim\n",
    "print(\"Gensim:\\n \")\n",
    "gensim_kw = gensim.summarization.keywords(text_input)\n",
    "print(gensim_kw)"
   ]
  },
  {
   "cell_type": "markdown",
   "metadata": {},
   "source": [
    "### Creating lists \n",
    "\n",
    "Let's move forward with Yake as there are relativity scores that we can base keyword extraction on"
   ]
  },
  {
   "cell_type": "code",
   "execution_count": null,
   "metadata": {},
   "outputs": [],
   "source": []
  }
 ],
 "metadata": {
  "kernelspec": {
   "display_name": "Python 3.9.2 64-bit",
   "language": "python",
   "name": "python3"
  },
  "language_info": {
   "codemirror_mode": {
    "name": "ipython",
    "version": 3
   },
   "file_extension": ".py",
   "mimetype": "text/x-python",
   "name": "python",
   "nbconvert_exporter": "python",
   "pygments_lexer": "ipython3",
   "version": "3.9.2"
  },
  "orig_nbformat": 4,
  "vscode": {
   "interpreter": {
    "hash": "aee8b7b246df8f9039afb4144a1f6fd8d2ca17a180786b69acc140d282b71a49"
   }
  }
 },
 "nbformat": 4,
 "nbformat_minor": 2
}
