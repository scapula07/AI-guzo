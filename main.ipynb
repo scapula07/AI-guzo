{
 "cells": [
  {
   "cell_type": "markdown",
   "metadata": {},
   "source": [
    "# Guzo Chatbox NLP Product\n",
    "\n",
    "This python code will serve as the backend logic to the Chatbox ML/AI product. This backend will be split into 4 major steps:\n",
    "\n",
    "1. Importing text input from chatbox frontend (**Bart to help**)\n",
    "1. Extracting keyword(s) from text input & creating list (*if necessary*)\n",
    "1. Matching keywords to tags for profiles in database (**Need Bart help for API**)\n",
    "1. Exporting results to frontend (**Need Bart help for API**)"
   ]
  },
  {
   "cell_type": "markdown",
   "metadata": {},
   "source": [
    "## Imports"
   ]
  },
  {
   "cell_type": "markdown",
   "metadata": {},
   "source": [
    "### Import NLP Libraries"
   ]
  },
  {
   "cell_type": "code",
   "execution_count": 9,
   "metadata": {},
   "outputs": [],
   "source": [
    "#   Imports\n",
    "import numpy as np\n",
    "import pandas as pd\n",
    "from os import path\n",
    "import sys"
   ]
  },
  {
   "cell_type": "code",
   "execution_count": 10,
   "metadata": {},
   "outputs": [
    {
     "name": "stderr",
     "output_type": "stream",
     "text": [
      "[nltk_data] Error loading STOPWORDS: <urlopen error [SSL:\n",
      "[nltk_data]     CERTIFICATE_VERIFY_FAILED] certificate verify failed:\n",
      "[nltk_data]     unable to get local issuer certificate (_ssl.c:1123)>\n"
     ]
    },
    {
     "data": {
      "text/plain": [
       "False"
      ]
     },
     "execution_count": 10,
     "metadata": {},
     "output_type": "execute_result"
    }
   ],
   "source": [
    "# from wordcloud import WordCloud, STOPWORDS, ImageColorGenerator\n",
    "import nltk\n",
    "nltk.download('STOPWORDS')\n",
    "\n"
   ]
  },
  {
   "cell_type": "code",
   "execution_count": 11,
   "metadata": {},
   "outputs": [],
   "source": [
    "import yake\n",
    "yake_extractor = yake.KeywordExtractor()"
   ]
  },
  {
   "cell_type": "code",
   "execution_count": 12,
   "metadata": {},
   "outputs": [],
   "source": [
    "\n",
    "from rake_nltk import Rake\n",
    "rake_nltk_extractor = Rake()"
   ]
  },
  {
   "cell_type": "code",
   "execution_count": 13,
   "metadata": {},
   "outputs": [],
   "source": [
    "# import spacy\n",
    "# spacy_extractor = spacy.load('en_core_web_sm')\n"
   ]
  },
  {
   "cell_type": "code",
   "execution_count": 14,
   "metadata": {},
   "outputs": [],
   "source": [
    "import gensim\n",
    "from gensim.summarization import keywords #This is a function used to extract keywords"
   ]
  },
  {
   "cell_type": "markdown",
   "metadata": {},
   "source": [
    "## Extracting Keywords & Creating Lists\n",
    "### Importing actual chatbox input TBD"
   ]
  },
  {
   "cell_type": "code",
   "execution_count": 15,
   "metadata": {},
   "outputs": [
    {
     "name": "stdout",
     "output_type": "stream",
     "text": [
      "240 character limit\n",
      "Next month will mark some 14 years since Boeing's fourth prototype for its modern 787 'Dreamliner' widebody family took to the skies for the first time. Registered as N7874, it has undertaken a significant amount of testbed flying for the US-based manufacturer and remains active in this role today. Let's take a look back at some of its most notable tasks, which have varied considerably over the years. 12 years of flight According to data made available on the ATDB.aero database, the Rolls-Royce Trent 1000-powered N7874 was built in September 2009, around three months before the Boeing 787's first flight. However, as the fourth prototype of the short-fuselage 787-8 variant, this particular aircraft didn't hit the skies until the following year, with ch-aviation noting that this took place on February 24th, 2010. This aircraft type has a maximum takeoff weight (MTOW) of 227,930 kg, equivalent to 502,500 pounds. N7874 represents a pivotal point in the Dreamlimer's story, as it was the penultimate 787 testbed built by Boeing, followed only by N787FT. After this, 787s with Construction Numbers 6 and up were made for use by Boeing's commercial customers, such as airlines and government operators. However, what sets N7874 apart from its other Boeing 787 Dreamliner prototype counterparts is that it has remained active for a far longer period than the rest. Indeed, data accessed via ch-aviation shows that this particular aircraft is the only one of the five not to have been scrapped (N787FT) or put on display (N787BA, N787EX, and N787BX). Over its career, it has served various exciting roles.  The second ecoDemonstrator The photograph below depicts N7874 during its tenure as a Boeing' ecoDemonstrator' aircraft. This term refers to experimental planes that Boeing uses to trial a range of technological features, aiming to increase its aircraft's operational sustainability. Simple Flying had the chance to see a Boeing 737 MAX serving as one in Glasgow in 2021, as well as 2022's 777-00ER iteration in Seattle. As far as N7874's period in this role was concerned, Boeing notes that it tested \"more than 25 new technologies aimed at improving aviation's environmental performance through every phase of flight.\" These included greenhouse gas sensors, real-time turbulence reports, and remote sensors to reduce wiring, with its first ecoDemonstrator flight occurring in 2014. Boeing's Ray Conner stated that:\n"
     ]
    }
   ],
   "source": [
    "#   This is temporary but this emulates the text box --> test the algorithm\n",
    "print('240 character limit')\n",
    "text_input = input(\"What resource do you need to grow your business?\")\n",
    "print(text_input)\n"
   ]
  },
  {
   "cell_type": "code",
   "execution_count": 16,
   "metadata": {},
   "outputs": [],
   "source": [
    "#   input manipulation to clean it up\n",
    "if len(text_input) > 240:\n",
    "    print(\"Input is too long, please try again.\")\n",
    "    sys.exit()"
   ]
  },
  {
   "cell_type": "markdown",
   "metadata": {},
   "source": [
    "### NLP Model Execution & Keyword Extraction"
   ]
  },
  {
   "cell_type": "code",
   "execution_count": 17,
   "metadata": {},
   "outputs": [],
   "source": [
    "#   spaCy\n"
   ]
  },
  {
   "cell_type": "code",
   "execution_count": 18,
   "metadata": {},
   "outputs": [
    {
     "name": "stdout",
     "output_type": "stream",
     "text": [
      "                                 term     score\n",
      "0                              Boeing  0.025504\n",
      "1                     widebody family  0.036281\n",
      "2             Boeing fourth prototype  0.062063\n",
      "3                   Boeing Ray Conner  0.079196\n",
      "4                            aircraft  0.089935\n",
      "5                    fourth prototype  0.103484\n",
      "6                       Boeing fourth  0.114126\n",
      "7                               years  0.120563\n",
      "8                Dreamliner prototype  0.127552\n",
      "9                              flight  0.128557\n",
      "10                         Boeing Ray  0.131259\n",
      "11                         Dreamliner  0.132481\n",
      "12  Dreamliner prototype counterparts  0.138677\n",
      "13                          prototype  0.142313\n",
      "14                    month will mark  0.166435\n",
      "15               Construction Numbers  0.173331\n",
      "16                             modern  0.179836\n",
      "17                           widebody  0.179836\n",
      "18                               time  0.179836\n",
      "19                    ecoDemonstrator  0.187875\n"
     ]
    }
   ],
   "source": [
    "#   YAKE\n",
    "keywords = yake_extractor.extract_keywords(text_input)\n",
    "\n",
    "keywords_df = pd.DataFrame(keywords, columns=['term', 'score'])\n",
    "keywords_df = keywords_df.sort_values(by='score')\n",
    "print(keywords_df) # The lower the score the more relevant the keyword is"
   ]
  },
  {
   "cell_type": "code",
   "execution_count": 19,
   "metadata": {},
   "outputs": [
    {
     "name": "stdout",
     "output_type": "stream",
     "text": [
      "Rake-NLTK:\n",
      " \n",
      "['boeing 787 dreamliner prototype counterparts', 'served various exciting roles', '25 new technologies aimed', 'included greenhouse gas sensors', 'boeing 737 max serving', 'data accessed via ch', '14 years since boeing', 'penultimate 787 testbed built', 'first ecodemonstrator flight occurring', 'royce trent 1000', 'ray conner stated', 'maximum takeoff weight', 'construction numbers 6', 'around three months', 'widebody family took', 'time turbulence reports', 'data made available', 'sets n7874 apart', 'far longer period', 'boeing 787', 'first time', 'first flight', 'testbed flying', 'remote sensors', 'modern 787', 'fuselage 787', 'fourth prototype', 'fourth prototype', 'took place', 'flight according', 'flight .\"', 'second ecodemonstrator', '12 years', 'boeing uses', 'boeing notes', 'varied considerably', 'term refers', 'technological features', 'simple flying', 'significant amount', 'september 2009', 'remains active', 'remained active', 'reduce wiring', 'pivotal point', 'operational sustainability', 'notable tasks', 'next month', 'n787bx ).', 'look back', 'improving aviation', 'government operators', 'following year', 'february 24th', 'experimental planes', 'every phase', 'environmental performance', 'commercial customers', 'based manufacturer', 'aviation shows', 'aviation noting', 'aero database', '930 kg', '8 variant', '500 pounds', '00er iteration', 'powered n7874', 'n7874 represents', 'depicts n7874', 'particular aircraft', 'particular aircraft', 'aircraft type', 'role today', 'dreamliner', 'ch', 'built', 'years', 'ecodemonstrator', 'boeing', 'boeing', 'boeing', 'boeing', 'period', 'made', 'far', 'n7874', 'n7874', 'aircraft', 'aircraft', 'role', 'well', 'use', 'us', 'undertaken', 'trial', 'tested', 'tenure', 'take', 'story', 'skies', 'skies', 'short', 'see', 'seattle', 'scrapped', 'rolls', 'rest', 'registered', 'real', 'range', 'put', 'photograph', 'one', 'one', 'n787ft', 'n787ft', 'n787ex', 'n787ba', 'mtow', 'mark', 'let', 'indeed', 'increase', 'however', 'however', 'hit', 'glasgow', 'followed', 'five', 'equivalent', 'dreamlimer', 'display', 'concerned', 'chance', 'career', 'atdb', 'airlines', 'aiming', '787s', '777', '502', '227', '2022', '2021', '2014', '2010']\n"
     ]
    }
   ],
   "source": [
    "#   Rake-NLTK\n",
    "rake_nltk_extractor.extract_keywords_from_text(text_input)\n",
    "keywords_extracted = rake_nltk_extractor.get_ranked_phrases()\n",
    "print(\"Rake-NLTK:\\n \")\n",
    "print(keywords_extracted)"
   ]
  },
  {
   "cell_type": "code",
   "execution_count": 20,
   "metadata": {},
   "outputs": [
    {
     "name": "stdout",
     "output_type": "stream",
     "text": [
      "Gensim:\n",
      " \n",
      "boeing\n",
      "ecodemonstrator\n",
      "dreamliner\n",
      "testbed\n",
      "time\n",
      "sensors\n"
     ]
    }
   ],
   "source": [
    "#   Gensim\n",
    "print(\"Gensim:\\n \")\n",
    "gensim_kw = gensim.summarization.keywords(text_input, words=6)\n",
    "print(gensim_kw)"
   ]
  }
 ],
 "metadata": {
  "kernelspec": {
   "display_name": "Python 3.9.2 64-bit",
   "language": "python",
   "name": "python3"
  },
  "language_info": {
   "codemirror_mode": {
    "name": "ipython",
    "version": 3
   },
   "file_extension": ".py",
   "mimetype": "text/x-python",
   "name": "python",
   "nbconvert_exporter": "python",
   "pygments_lexer": "ipython3",
   "version": "3.9.2"
  },
  "orig_nbformat": 4,
  "vscode": {
   "interpreter": {
    "hash": "aee8b7b246df8f9039afb4144a1f6fd8d2ca17a180786b69acc140d282b71a49"
   }
  }
 },
 "nbformat": 4,
 "nbformat_minor": 2
}
